{
 "cells": [
  {
   "cell_type": "markdown",
   "metadata": {
    "colab_type": "text",
    "collapsed": true,
    "id": "u1M7_qBcwcQV",
    "pycharm": {
     "name": "#%% md\n"
    }
   },
   "source": [
    "# Load dataset"
   ]
  },
  {
   "cell_type": "code",
   "execution_count": 1,
   "metadata": {
    "colab": {},
    "colab_type": "code",
    "id": "XZhVuuGuwgCl"
   },
   "outputs": [
    {
     "name": "stdout",
     "output_type": "stream",
     "text": [
      "Data ready\n"
     ]
    }
   ],
   "source": [
    "# Download & unzip the dataset, unless it's already present\n",
    "from pathlib import Path\n",
    "\n",
    "url = 'https://www.vs.inf.ethz.ch/edu/HS2019/SE/xXjxkLul5TDrlSbniZFaIUu1gKUjZ2qj/example_data.zip'\n",
    "\n",
    "if not Path(\"./example_data\").is_dir():\n",
    "  if not Path(\"./example_data.zip\").is_file():\n",
    "    !pip install wget\n",
    "    import wget\n",
    "    wget.download(url,'./example_data.zip')\n",
    "  from zipfile import ZipFile\n",
    "  ZipFile('example_data.zip','r').extractall()\n",
    "print('Data ready')"
   ]
  },
  {
   "cell_type": "code",
   "execution_count": 2,
   "metadata": {
    "colab": {},
    "colab_type": "code",
    "id": "IphfrEXgwcQW",
    "pycharm": {
     "is_executing": false,
     "name": "#%%\n"
    }
   },
   "outputs": [
    {
     "name": "stderr",
     "output_type": "stream",
     "text": [
      "/opt/anaconda3/lib/python3.7/site-packages/numpy/lib/arraysetops.py:568: FutureWarning: elementwise comparison failed; returning scalar instead, but in the future will perform elementwise comparison\n",
      "  mask |= (ar1 == a)\n"
     ]
    },
    {
     "name": "stdout",
     "output_type": "stream",
     "text": [
      "            end    id   mode         start  \\\n",
      "0  1.558109e+12  88.0  605.0  1.558108e+12   \n",
      "\n",
      "                                   user  \n",
      "0  408483c0-4287-456d-a35c-b14e28ce10ec  \n",
      "   acc  leg       reading                                  user        x  \\\n",
      "0    3   88  1.558108e+12  408483c0-4287-456d-a35c-b14e28ce10ec  0.00639   \n",
      "\n",
      "          y         z  \n",
      "0  0.030259  0.008629  \n",
      "   acc         alt  bearing        lat  leg       lng       reading  speed  \\\n",
      "0  3.0  492.416046        0  47.324327   88  8.530802  1.558108e+12    0.0   \n",
      "\n",
      "                                   user  \n",
      "0  408483c0-4287-456d-a35c-b14e28ce10ec  \n"
     ]
    }
   ],
   "source": [
    "# Read data into Python\n",
    "\n",
    "# Pandas is a popular library for managing and analysing data in Python.\n",
    "# Google's course on Machine Learning has a short intro:\n",
    "# See https://colab.research.google.com/notebooks/mlcc/intro_to_pandas.ipynb\n",
    "import pandas as pd\n",
    "\n",
    "directory = 'example_data'\n",
    "\n",
    "legs_df = pd.read_csv(directory + '/legs.csv', index_col=0)\n",
    "acc_readings = pd.read_csv(directory + '/acc_readings.csv', index_col=0)\n",
    "locations_scans = pd.read_csv(directory + '/locations_scans.csv', index_col=0)\n",
    "bluetooth_scans = pd.read_csv(directory + '/bluetooth_scans.csv', index_col=0)\n",
    "wifi_scans = pd.read_csv(directory + '/wifi_scans.csv', index_col=0)\n",
    "gyro_readings = pd.read_csv(directory + '/gyro_readings.csv', index_col=0)\n",
    "magn_readings = pd.read_csv(directory + '/magn_readings.csv', index_col=0)\n",
    "\n",
    "\n",
    "\n",
    "# Print the first row of each file (quick sanity check)\n",
    "print(legs_df.head(1))\n",
    "print(acc_readings.head(1))\n",
    "print(locations_scans.head(1))"
   ]
  },
  {
   "cell_type": "markdown",
   "metadata": {
    "colab_type": "text",
    "id": "KsXhb_DwwcQY",
    "pycharm": {
     "name": "#%% md\n"
    }
   },
   "source": [
    "\n",
    "\n",
    "\n",
    "# Calculate windows and features"
   ]
  },
  {
   "cell_type": "code",
   "execution_count": 3,
   "metadata": {
    "colab": {},
    "colab_type": "code",
    "id": "WUXpW0NrwcQY",
    "pycharm": {
     "is_executing": false,
     "name": "#%%\n"
    }
   },
   "outputs": [
    {
     "name": "stdout",
     "output_type": "stream",
     "text": [
      "windowing 408483c0-4287-456d-a35c-b14e28ce10ec 88.0\n",
      "windowing 408483c0-4287-456d-a35c-b14e28ce10ec 89.0\n",
      "windowing 408483c0-4287-456d-a35c-b14e28ce10ec 90.0\n",
      "windowing 408483c0-4287-456d-a35c-b14e28ce10ec 91.0\n",
      "windowing 408483c0-4287-456d-a35c-b14e28ce10ec 92.0\n",
      "windowing 408483c0-4287-456d-a35c-b14e28ce10ec 93.0\n",
      "windowing 408483c0-4287-456d-a35c-b14e28ce10ec 94.0\n",
      "windowing 408483c0-4287-456d-a35c-b14e28ce10ec 95.0\n",
      "windowing 408483c0-4287-456d-a35c-b14e28ce10ec 96.0\n",
      "windowing 408483c0-4287-456d-a35c-b14e28ce10ec 97.0\n",
      "windowing 408483c0-4287-456d-a35c-b14e28ce10ec 98.0\n",
      "windowing 408483c0-4287-456d-a35c-b14e28ce10ec 99.0\n",
      "windowing 408483c0-4287-456d-a35c-b14e28ce10ec 100.0\n",
      "windowing 408483c0-4287-456d-a35c-b14e28ce10ec 101.0\n",
      "windowing 408483c0-4287-456d-a35c-b14e28ce10ec 102.0\n",
      "windowing 408483c0-4287-456d-a35c-b14e28ce10ec 103.0\n",
      "windowing 408483c0-4287-456d-a35c-b14e28ce10ec 104.0\n",
      "windowing 408483c0-4287-456d-a35c-b14e28ce10ec 105.0\n",
      "windowing 408483c0-4287-456d-a35c-b14e28ce10ec 106.0\n",
      "windowing 408483c0-4287-456d-a35c-b14e28ce10ec 107.0\n",
      "windowing 408483c0-4287-456d-a35c-b14e28ce10ec 108.0\n",
      "windowing 408483c0-4287-456d-a35c-b14e28ce10ec 109.0\n",
      "windowing 408483c0-4287-456d-a35c-b14e28ce10ec 110.0\n",
      "windowing 408483c0-4287-456d-a35c-b14e28ce10ec 111.0\n",
      "windowing 408483c0-4287-456d-a35c-b14e28ce10ec 120.0\n",
      "windowing 408483c0-4287-456d-a35c-b14e28ce10ec 121.0\n",
      "windowing 408483c0-4287-456d-a35c-b14e28ce10ec 122.0\n",
      "windowing 408483c0-4287-456d-a35c-b14e28ce10ec 124.0\n",
      "windowing 408483c0-4287-456d-a35c-b14e28ce10ec 125.0\n",
      "windowing 408483c0-4287-456d-a35c-b14e28ce10ec 126.0\n",
      "windowing 408483c0-4287-456d-a35c-b14e28ce10ec 127.0\n",
      "windowing 408483c0-4287-456d-a35c-b14e28ce10ec 128.0\n",
      "windowing 408483c0-4287-456d-a35c-b14e28ce10ec 129.0\n",
      "windowing 408483c0-4287-456d-a35c-b14e28ce10ec 130.0\n",
      "windowing 408483c0-4287-456d-a35c-b14e28ce10ec 132.0\n",
      "windowing 408483c0-4287-456d-a35c-b14e28ce10ec 134.0\n",
      "windowing 408483c0-4287-456d-a35c-b14e28ce10ec 135.0\n",
      "windowing 408483c0-4287-456d-a35c-b14e28ce10ec 136.0\n",
      "windowing 408483c0-4287-456d-a35c-b14e28ce10ec 140.0\n",
      "windowing 408483c0-4287-456d-a35c-b14e28ce10ec 141.0\n",
      "windowing 408483c0-4287-456d-a35c-b14e28ce10ec 142.0\n",
      "windowing 408483c0-4287-456d-a35c-b14e28ce10ec 143.0\n",
      "windowing 408483c0-4287-456d-a35c-b14e28ce10ec 144.0\n",
      "windowing 408483c0-4287-456d-a35c-b14e28ce10ec 145.0\n",
      "windowing 408483c0-4287-456d-a35c-b14e28ce10ec 146.0\n",
      "windowing 408483c0-4287-456d-a35c-b14e28ce10ec 147.0\n",
      "windowing 408483c0-4287-456d-a35c-b14e28ce10ec 148.0\n",
      "windowing 408483c0-4287-456d-a35c-b14e28ce10ec 149.0\n",
      "windowing 408483c0-4287-456d-a35c-b14e28ce10ec 150.0\n",
      "windowing 408483c0-4287-456d-a35c-b14e28ce10ec 152.0\n",
      "windowing 408483c0-4287-456d-a35c-b14e28ce10ec 153.0\n",
      "windowing 408483c0-4287-456d-a35c-b14e28ce10ec 154.0\n",
      "windowing 408483c0-4287-456d-a35c-b14e28ce10ec 155.0\n",
      "windowing 408483c0-4287-456d-a35c-b14e28ce10ec 158.0\n",
      "windowing 408483c0-4287-456d-a35c-b14e28ce10ec 159.0\n",
      "windowing 408483c0-4287-456d-a35c-b14e28ce10ec 160.0\n",
      "windowing 408483c0-4287-456d-a35c-b14e28ce10ec 161.0\n",
      "windowing 408483c0-4287-456d-a35c-b14e28ce10ec 162.0\n",
      "windowing 408483c0-4287-456d-a35c-b14e28ce10ec 163.0\n",
      "windowing 408483c0-4287-456d-a35c-b14e28ce10ec 164.0\n",
      "windowing 408483c0-4287-456d-a35c-b14e28ce10ec 165.0\n",
      "windowing 408483c0-4287-456d-a35c-b14e28ce10ec 166.0\n",
      "windowing 408483c0-4287-456d-a35c-b14e28ce10ec 167.0\n",
      "windowing 408483c0-4287-456d-a35c-b14e28ce10ec 168.0\n",
      "windowing 408483c0-4287-456d-a35c-b14e28ce10ec 169.0\n",
      "windowing 408483c0-4287-456d-a35c-b14e28ce10ec 170.0\n",
      "windowing 408483c0-4287-456d-a35c-b14e28ce10ec 171.0\n",
      "windowing 408483c0-4287-456d-a35c-b14e28ce10ec 172.0\n",
      "windowing 408483c0-4287-456d-a35c-b14e28ce10ec 173.0\n",
      "windowing 408483c0-4287-456d-a35c-b14e28ce10ec 174.0\n",
      "windowing 408483c0-4287-456d-a35c-b14e28ce10ec 175.0\n",
      "windowing 408483c0-4287-456d-a35c-b14e28ce10ec 176.0\n",
      "windowing 408483c0-4287-456d-a35c-b14e28ce10ec 177.0\n",
      "windowing 408483c0-4287-456d-a35c-b14e28ce10ec 178.0\n",
      "windowing 408483c0-4287-456d-a35c-b14e28ce10ec 179.0\n",
      "windowing 408483c0-4287-456d-a35c-b14e28ce10ec 183.0\n",
      "windowing 408483c0-4287-456d-a35c-b14e28ce10ec 184.0\n",
      "windowing 408483c0-4287-456d-a35c-b14e28ce10ec 185.0\n",
      "windowing 408483c0-4287-456d-a35c-b14e28ce10ec 186.0\n",
      "windowing 408483c0-4287-456d-a35c-b14e28ce10ec 187.0\n",
      "windowing 408483c0-4287-456d-a35c-b14e28ce10ec 188.0\n",
      "windowing 408483c0-4287-456d-a35c-b14e28ce10ec 189.0\n",
      "windowing 408483c0-4287-456d-a35c-b14e28ce10ec 190.0\n",
      "windowing 408483c0-4287-456d-a35c-b14e28ce10ec 191.0\n",
      "windowing 408483c0-4287-456d-a35c-b14e28ce10ec 192.0\n",
      "windowing 408483c0-4287-456d-a35c-b14e28ce10ec 193.0\n",
      "windowing 408483c0-4287-456d-a35c-b14e28ce10ec 195.0\n",
      "windowing 408483c0-4287-456d-a35c-b14e28ce10ec 207.0\n",
      "windowing 408483c0-4287-456d-a35c-b14e28ce10ec 208.0\n",
      "windowing 408483c0-4287-456d-a35c-b14e28ce10ec 210.0\n",
      "windowing 408483c0-4287-456d-a35c-b14e28ce10ec 211.0\n",
      "windowing 408483c0-4287-456d-a35c-b14e28ce10ec 212.0\n",
      "windowing 408483c0-4287-456d-a35c-b14e28ce10ec 315.0\n",
      "windowing 408483c0-4287-456d-a35c-b14e28ce10ec 318.0\n",
      "windowing 408483c0-4287-456d-a35c-b14e28ce10ec 319.0\n",
      "windowing 408483c0-4287-456d-a35c-b14e28ce10ec 320.0\n",
      "windowing 408483c0-4287-456d-a35c-b14e28ce10ec 321.0\n",
      "windowing 408483c0-4287-456d-a35c-b14e28ce10ec 322.0\n",
      "windowing 408483c0-4287-456d-a35c-b14e28ce10ec 326.0\n",
      "windowing 408483c0-4287-456d-a35c-b14e28ce10ec 327.0\n",
      "windowing 408483c0-4287-456d-a35c-b14e28ce10ec 328.0\n",
      "windowing 408483c0-4287-456d-a35c-b14e28ce10ec 329.0\n",
      "windowing 408483c0-4287-456d-a35c-b14e28ce10ec 330.0\n",
      "windowing 408483c0-4287-456d-a35c-b14e28ce10ec 331.0\n",
      "windowing 408483c0-4287-456d-a35c-b14e28ce10ec 332.0\n",
      "windowing 408483c0-4287-456d-a35c-b14e28ce10ec 333.0\n",
      "windowing 408483c0-4287-456d-a35c-b14e28ce10ec 334.0\n",
      "windowing 408483c0-4287-456d-a35c-b14e28ce10ec 336.0\n",
      "windowing 408483c0-4287-456d-a35c-b14e28ce10ec 337.0\n",
      "windowing 408483c0-4287-456d-a35c-b14e28ce10ec 338.0\n",
      "windowing 408483c0-4287-456d-a35c-b14e28ce10ec 339.0\n",
      "windowing 408483c0-4287-456d-a35c-b14e28ce10ec 340.0\n",
      "windowing 408483c0-4287-456d-a35c-b14e28ce10ec 341.0\n",
      "windowing 408483c0-4287-456d-a35c-b14e28ce10ec 342.0\n",
      "windowing 408483c0-4287-456d-a35c-b14e28ce10ec 343.0\n",
      "windowing 408483c0-4287-456d-a35c-b14e28ce10ec 344.0\n",
      "windowing 408483c0-4287-456d-a35c-b14e28ce10ec 345.0\n",
      "windowing 408483c0-4287-456d-a35c-b14e28ce10ec 346.0\n",
      "windowing 408483c0-4287-456d-a35c-b14e28ce10ec 347.0\n",
      "windowing 408483c0-4287-456d-a35c-b14e28ce10ec 348.0\n",
      "windowing 408483c0-4287-456d-a35c-b14e28ce10ec 349.0\n",
      "windowing 408483c0-4287-456d-a35c-b14e28ce10ec 350.0\n",
      "windowing 408483c0-4287-456d-a35c-b14e28ce10ec 352.0\n",
      "windowing 408483c0-4287-456d-a35c-b14e28ce10ec 353.0\n",
      "windowing 408483c0-4287-456d-a35c-b14e28ce10ec 354.0\n",
      "windowing 408483c0-4287-456d-a35c-b14e28ce10ec 355.0\n",
      "windowing 408483c0-4287-456d-a35c-b14e28ce10ec 361.0\n",
      "windowing fa7ab975-bd41-4c5a-82bb-1c5dd89c5a9f 1.0\n",
      "windowing fa7ab975-bd41-4c5a-82bb-1c5dd89c5a9f 2.0\n",
      "windowing fa7ab975-bd41-4c5a-82bb-1c5dd89c5a9f 4.0\n",
      "windowing fa7ab975-bd41-4c5a-82bb-1c5dd89c5a9f 5.0\n",
      "windowing fa7ab975-bd41-4c5a-82bb-1c5dd89c5a9f 8.0\n",
      "windowing fa7ab975-bd41-4c5a-82bb-1c5dd89c5a9f 9.0\n",
      "windowing fa7ab975-bd41-4c5a-82bb-1c5dd89c5a9f 10.0\n",
      "windowing fa7ab975-bd41-4c5a-82bb-1c5dd89c5a9f 11.0\n",
      "windowing fa7ab975-bd41-4c5a-82bb-1c5dd89c5a9f 12.0\n",
      "windowing fa7ab975-bd41-4c5a-82bb-1c5dd89c5a9f 13.0\n",
      "windowing fa7ab975-bd41-4c5a-82bb-1c5dd89c5a9f 14.0\n",
      "windowing fa7ab975-bd41-4c5a-82bb-1c5dd89c5a9f 15.0\n",
      "windowing fa7ab975-bd41-4c5a-82bb-1c5dd89c5a9f 16.0\n",
      "windowing fa7ab975-bd41-4c5a-82bb-1c5dd89c5a9f 17.0\n",
      "windowing fa7ab975-bd41-4c5a-82bb-1c5dd89c5a9f 18.0\n",
      "windowing fa7ab975-bd41-4c5a-82bb-1c5dd89c5a9f 19.0\n",
      "windowing fa7ab975-bd41-4c5a-82bb-1c5dd89c5a9f 21.0\n",
      "windowing fa7ab975-bd41-4c5a-82bb-1c5dd89c5a9f 22.0\n",
      "windowing fa7ab975-bd41-4c5a-82bb-1c5dd89c5a9f 23.0\n",
      "windowing fa7ab975-bd41-4c5a-82bb-1c5dd89c5a9f 24.0\n",
      "windowing fa7ab975-bd41-4c5a-82bb-1c5dd89c5a9f 25.0\n",
      "windowing fa7ab975-bd41-4c5a-82bb-1c5dd89c5a9f 26.0\n",
      "windowing fa7ab975-bd41-4c5a-82bb-1c5dd89c5a9f 27.0\n",
      "windowing fa7ab975-bd41-4c5a-82bb-1c5dd89c5a9f 28.0\n",
      "windowing fa7ab975-bd41-4c5a-82bb-1c5dd89c5a9f 29.0\n",
      "windowing fa7ab975-bd41-4c5a-82bb-1c5dd89c5a9f 30.0\n",
      "windowing fa7ab975-bd41-4c5a-82bb-1c5dd89c5a9f 31.0\n",
      "windowing fa7ab975-bd41-4c5a-82bb-1c5dd89c5a9f 32.0\n",
      "windowing fa7ab975-bd41-4c5a-82bb-1c5dd89c5a9f 33.0\n"
     ]
    },
    {
     "name": "stdout",
     "output_type": "stream",
     "text": [
      "windowing fa7ab975-bd41-4c5a-82bb-1c5dd89c5a9f 35.0\n",
      "windowing fa7ab975-bd41-4c5a-82bb-1c5dd89c5a9f 36.0\n",
      "windowing fa7ab975-bd41-4c5a-82bb-1c5dd89c5a9f 37.0\n",
      "windowing fa7ab975-bd41-4c5a-82bb-1c5dd89c5a9f 47.0\n",
      "windowing fa7ab975-bd41-4c5a-82bb-1c5dd89c5a9f 51.0\n",
      "windowing fa7ab975-bd41-4c5a-82bb-1c5dd89c5a9f 52.0\n",
      "windowing fa7ab975-bd41-4c5a-82bb-1c5dd89c5a9f 53.0\n",
      "windowing fa7ab975-bd41-4c5a-82bb-1c5dd89c5a9f 54.0\n",
      "windowing fa7ab975-bd41-4c5a-82bb-1c5dd89c5a9f 55.0\n",
      "windowing fa7ab975-bd41-4c5a-82bb-1c5dd89c5a9f 56.0\n",
      "windowing fa7ab975-bd41-4c5a-82bb-1c5dd89c5a9f 60.0\n",
      "windowing fa7ab975-bd41-4c5a-82bb-1c5dd89c5a9f 61.0\n",
      "windowing fa7ab975-bd41-4c5a-82bb-1c5dd89c5a9f 62.0\n",
      "windowing fa7ab975-bd41-4c5a-82bb-1c5dd89c5a9f 64.0\n",
      "windowing fa7ab975-bd41-4c5a-82bb-1c5dd89c5a9f 65.0\n",
      "windowing fa7ab975-bd41-4c5a-82bb-1c5dd89c5a9f 66.0\n",
      "windowing fa7ab975-bd41-4c5a-82bb-1c5dd89c5a9f 67.0\n",
      "windowing fa7ab975-bd41-4c5a-82bb-1c5dd89c5a9f 68.0\n",
      "windowing fa7ab975-bd41-4c5a-82bb-1c5dd89c5a9f 69.0\n",
      "windowing fa7ab975-bd41-4c5a-82bb-1c5dd89c5a9f 70.0\n",
      "windowing fa7ab975-bd41-4c5a-82bb-1c5dd89c5a9f 71.0\n",
      "windowing fa7ab975-bd41-4c5a-82bb-1c5dd89c5a9f 72.0\n",
      "windowing fa7ab975-bd41-4c5a-82bb-1c5dd89c5a9f 73.0\n",
      "windowing fa7ab975-bd41-4c5a-82bb-1c5dd89c5a9f 97.0\n",
      "windowing fa7ab975-bd41-4c5a-82bb-1c5dd89c5a9f 98.0\n",
      "windowing fa7ab975-bd41-4c5a-82bb-1c5dd89c5a9f 99.0\n",
      "windowing fa7ab975-bd41-4c5a-82bb-1c5dd89c5a9f 100.0\n",
      "windowing fa7ab975-bd41-4c5a-82bb-1c5dd89c5a9f 101.0\n",
      "windowing fa7ab975-bd41-4c5a-82bb-1c5dd89c5a9f 102.0\n",
      "windowing fa7ab975-bd41-4c5a-82bb-1c5dd89c5a9f 103.0\n",
      "windowing fa7ab975-bd41-4c5a-82bb-1c5dd89c5a9f 104.0\n",
      "windowing fa7ab975-bd41-4c5a-82bb-1c5dd89c5a9f 106.0\n",
      "windowing fa7ab975-bd41-4c5a-82bb-1c5dd89c5a9f 107.0\n",
      "windowing fa7ab975-bd41-4c5a-82bb-1c5dd89c5a9f 108.0\n",
      "windowing fa7ab975-bd41-4c5a-82bb-1c5dd89c5a9f 109.0\n",
      "windowing fa7ab975-bd41-4c5a-82bb-1c5dd89c5a9f 110.0\n",
      "windowing fa7ab975-bd41-4c5a-82bb-1c5dd89c5a9f 112.0\n",
      "windowing fa7ab975-bd41-4c5a-82bb-1c5dd89c5a9f 114.0\n",
      "windowing fa7ab975-bd41-4c5a-82bb-1c5dd89c5a9f 133.0\n",
      "windowing fa7ab975-bd41-4c5a-82bb-1c5dd89c5a9f 134.0\n",
      "windowing fa7ab975-bd41-4c5a-82bb-1c5dd89c5a9f 135.0\n",
      "windowing fa7ab975-bd41-4c5a-82bb-1c5dd89c5a9f 136.0\n",
      "windowing fa7ab975-bd41-4c5a-82bb-1c5dd89c5a9f 137.0\n",
      "windowing fa7ab975-bd41-4c5a-82bb-1c5dd89c5a9f 138.0\n",
      "windowing fa7ab975-bd41-4c5a-82bb-1c5dd89c5a9f 139.0\n",
      "windowing fa7ab975-bd41-4c5a-82bb-1c5dd89c5a9f 140.0\n",
      "windowing fa7ab975-bd41-4c5a-82bb-1c5dd89c5a9f 141.0\n",
      "windowing fa7ab975-bd41-4c5a-82bb-1c5dd89c5a9f 142.0\n",
      "windowing fa7ab975-bd41-4c5a-82bb-1c5dd89c5a9f 143.0\n",
      "windowing fa7ab975-bd41-4c5a-82bb-1c5dd89c5a9f 144.0\n",
      "windowing fa7ab975-bd41-4c5a-82bb-1c5dd89c5a9f 145.0\n",
      "windowing fa7ab975-bd41-4c5a-82bb-1c5dd89c5a9f 146.0\n",
      "windowing fa7ab975-bd41-4c5a-82bb-1c5dd89c5a9f 147.0\n",
      "windowing fa7ab975-bd41-4c5a-82bb-1c5dd89c5a9f 148.0\n",
      "windowing fa7ab975-bd41-4c5a-82bb-1c5dd89c5a9f 149.0\n",
      "windowing fa7ab975-bd41-4c5a-82bb-1c5dd89c5a9f 150.0\n",
      "windowing fa7ab975-bd41-4c5a-82bb-1c5dd89c5a9f 151.0\n",
      "windowing fa7ab975-bd41-4c5a-82bb-1c5dd89c5a9f 152.0\n",
      "windowing fa7ab975-bd41-4c5a-82bb-1c5dd89c5a9f 153.0\n",
      "windowing fa7ab975-bd41-4c5a-82bb-1c5dd89c5a9f 154.0\n",
      "windowing fa7ab975-bd41-4c5a-82bb-1c5dd89c5a9f 155.0\n",
      "windowing fa7ab975-bd41-4c5a-82bb-1c5dd89c5a9f 156.0\n",
      "windowing fa7ab975-bd41-4c5a-82bb-1c5dd89c5a9f 157.0\n",
      "windowing fa7ab975-bd41-4c5a-82bb-1c5dd89c5a9f 158.0\n",
      "windowing fa7ab975-bd41-4c5a-82bb-1c5dd89c5a9f 159.0\n",
      "windowing fa7ab975-bd41-4c5a-82bb-1c5dd89c5a9f 160.0\n",
      "windowing fa7ab975-bd41-4c5a-82bb-1c5dd89c5a9f 164.0\n",
      "windowing fa7ab975-bd41-4c5a-82bb-1c5dd89c5a9f 165.0\n",
      "windowing fa7ab975-bd41-4c5a-82bb-1c5dd89c5a9f 166.0\n",
      "windowing fa7ab975-bd41-4c5a-82bb-1c5dd89c5a9f 167.0\n",
      "windowing fa7ab975-bd41-4c5a-82bb-1c5dd89c5a9f 168.0\n",
      "windowing fa7ab975-bd41-4c5a-82bb-1c5dd89c5a9f 169.0\n",
      "windowing fa7ab975-bd41-4c5a-82bb-1c5dd89c5a9f 172.0\n",
      "windowing fa7ab975-bd41-4c5a-82bb-1c5dd89c5a9f 173.0\n",
      "windowing fa7ab975-bd41-4c5a-82bb-1c5dd89c5a9f 174.0\n",
      "windowing fa7ab975-bd41-4c5a-82bb-1c5dd89c5a9f 175.0\n",
      "windowing fa7ab975-bd41-4c5a-82bb-1c5dd89c5a9f 176.0\n",
      "windowing fa7ab975-bd41-4c5a-82bb-1c5dd89c5a9f 177.0\n",
      "Feature calculation done\n",
      "   acc_mean     acc_x     acc_y     acc_z  accuracy_gps  avg_speed  \\\n",
      "0  0.214602  0.023972  0.031475  0.031501      3.000000   0.000000   \n",
      "1  0.767243 -0.012712  0.026699  0.029003      3.000000   0.000000   \n",
      "2  4.971554 -0.381642  0.200500 -0.092922      3.000000   0.000000   \n",
      "3  4.678685  0.008158 -0.421500  0.374328      3.011167   1.993009   \n",
      "4  5.165416 -0.351884  0.386071  0.309292      3.826500   3.993527   \n",
      "\n",
      "   bluetooth_numbers  gyro_mean    gyro_x    gyro_y    gyro_z   leg  \\\n",
      "0                2.0   0.033222 -0.000947 -0.004860  0.016561  88.0   \n",
      "1                2.0   0.080220  0.001547  0.008127 -0.008683  88.0   \n",
      "2                3.0   0.522310  0.071269  0.128313  0.206030  88.0   \n",
      "3                3.0   0.443455  0.008648  0.010676 -0.003980  88.0   \n",
      "4                9.0   0.602740  0.052864  0.119742  0.257593  88.0   \n",
      "\n",
      "   magn_mean     magn_x     magn_y     magn_z  max_speed  min_speed   mode  \\\n",
      "0  59.777030 -11.047762 -44.553356 -38.248950   0.000000   0.000000  605.0   \n",
      "1  60.962180 -14.032200 -45.146199 -38.442999   0.000000   0.000000  605.0   \n",
      "2  61.021890 -28.129599 -37.525399 -35.938999   0.000000   0.000000  605.0   \n",
      "3  57.626137 -30.289163 -27.886354 -40.160267   3.795627   0.653239  605.0   \n",
      "4  60.300073 -27.403999 -12.524600 -50.738399   4.211147   3.697672  605.0   \n",
      "\n",
      "                                   user  \n",
      "0  408483c0-4287-456d-a35c-b14e28ce10ec  \n",
      "1  408483c0-4287-456d-a35c-b14e28ce10ec  \n",
      "2  408483c0-4287-456d-a35c-b14e28ce10ec  \n",
      "3  408483c0-4287-456d-a35c-b14e28ce10ec  \n",
      "4  408483c0-4287-456d-a35c-b14e28ce10ec  \n"
     ]
    },
    {
     "ename": "FileCreateError",
     "evalue": "[Errno 2] No such file or directory: 'Results/testn.xlsx'",
     "output_type": "error",
     "traceback": [
      "\u001b[0;31m---------------------------------------------------------------------------\u001b[0m",
      "\u001b[0;31mFileNotFoundError\u001b[0m                         Traceback (most recent call last)",
      "\u001b[0;32m/opt/anaconda3/lib/python3.7/site-packages/xlsxwriter/workbook.py\u001b[0m in \u001b[0;36mclose\u001b[0;34m(self)\u001b[0m\n\u001b[1;32m    310\u001b[0m             \u001b[0;32mtry\u001b[0m\u001b[0;34m:\u001b[0m\u001b[0;34m\u001b[0m\u001b[0;34m\u001b[0m\u001b[0m\n\u001b[0;32m--> 311\u001b[0;31m                 \u001b[0mself\u001b[0m\u001b[0;34m.\u001b[0m\u001b[0m_store_workbook\u001b[0m\u001b[0;34m(\u001b[0m\u001b[0;34m)\u001b[0m\u001b[0;34m\u001b[0m\u001b[0;34m\u001b[0m\u001b[0m\n\u001b[0m\u001b[1;32m    312\u001b[0m             \u001b[0;32mexcept\u001b[0m \u001b[0mIOError\u001b[0m \u001b[0;32mas\u001b[0m \u001b[0me\u001b[0m\u001b[0;34m:\u001b[0m\u001b[0;34m\u001b[0m\u001b[0;34m\u001b[0m\u001b[0m\n",
      "\u001b[0;32m/opt/anaconda3/lib/python3.7/site-packages/xlsxwriter/workbook.py\u001b[0m in \u001b[0;36m_store_workbook\u001b[0;34m(self)\u001b[0m\n\u001b[1;32m    626\u001b[0m         \u001b[0;32mexcept\u001b[0m \u001b[0mIOError\u001b[0m \u001b[0;32mas\u001b[0m \u001b[0me\u001b[0m\u001b[0;34m:\u001b[0m\u001b[0;34m\u001b[0m\u001b[0;34m\u001b[0m\u001b[0m\n\u001b[0;32m--> 627\u001b[0;31m             \u001b[0;32mraise\u001b[0m \u001b[0me\u001b[0m\u001b[0;34m\u001b[0m\u001b[0;34m\u001b[0m\u001b[0m\n\u001b[0m\u001b[1;32m    628\u001b[0m \u001b[0;34m\u001b[0m\u001b[0m\n",
      "\u001b[0;32m/opt/anaconda3/lib/python3.7/site-packages/xlsxwriter/workbook.py\u001b[0m in \u001b[0;36m_store_workbook\u001b[0;34m(self)\u001b[0m\n\u001b[1;32m    624\u001b[0m             xlsx_file = ZipFile(self.filename, \"w\", compression=ZIP_DEFLATED,\n\u001b[0;32m--> 625\u001b[0;31m                                 allowZip64=self.allow_zip64)\n\u001b[0m\u001b[1;32m    626\u001b[0m         \u001b[0;32mexcept\u001b[0m \u001b[0mIOError\u001b[0m \u001b[0;32mas\u001b[0m \u001b[0me\u001b[0m\u001b[0;34m:\u001b[0m\u001b[0;34m\u001b[0m\u001b[0;34m\u001b[0m\u001b[0m\n",
      "\u001b[0;32m/opt/anaconda3/lib/python3.7/zipfile.py\u001b[0m in \u001b[0;36m__init__\u001b[0;34m(self, file, mode, compression, allowZip64, compresslevel)\u001b[0m\n\u001b[1;32m   1206\u001b[0m                 \u001b[0;32mtry\u001b[0m\u001b[0;34m:\u001b[0m\u001b[0;34m\u001b[0m\u001b[0;34m\u001b[0m\u001b[0m\n\u001b[0;32m-> 1207\u001b[0;31m                     \u001b[0mself\u001b[0m\u001b[0;34m.\u001b[0m\u001b[0mfp\u001b[0m \u001b[0;34m=\u001b[0m \u001b[0mio\u001b[0m\u001b[0;34m.\u001b[0m\u001b[0mopen\u001b[0m\u001b[0;34m(\u001b[0m\u001b[0mfile\u001b[0m\u001b[0;34m,\u001b[0m \u001b[0mfilemode\u001b[0m\u001b[0;34m)\u001b[0m\u001b[0;34m\u001b[0m\u001b[0;34m\u001b[0m\u001b[0m\n\u001b[0m\u001b[1;32m   1208\u001b[0m                 \u001b[0;32mexcept\u001b[0m \u001b[0mOSError\u001b[0m\u001b[0;34m:\u001b[0m\u001b[0;34m\u001b[0m\u001b[0;34m\u001b[0m\u001b[0m\n",
      "\u001b[0;31mFileNotFoundError\u001b[0m: [Errno 2] No such file or directory: 'Results/testn.xlsx'",
      "\nDuring handling of the above exception, another exception occurred:\n",
      "\u001b[0;31mFileCreateError\u001b[0m                           Traceback (most recent call last)",
      "\u001b[0;32m<ipython-input-3-571cf9d78006>\u001b[0m in \u001b[0;36m<module>\u001b[0;34m\u001b[0m\n\u001b[1;32m    154\u001b[0m \u001b[0;34m\u001b[0m\u001b[0m\n\u001b[1;32m    155\u001b[0m \u001b[0mfeatures_df\u001b[0m\u001b[0;34m.\u001b[0m\u001b[0mto_csv\u001b[0m\u001b[0;34m(\u001b[0m\u001b[0;34m\"window_features.csv\"\u001b[0m\u001b[0;34m)\u001b[0m\u001b[0;34m\u001b[0m\u001b[0;34m\u001b[0m\u001b[0m\n\u001b[0;32m--> 156\u001b[0;31m \u001b[0mfeatures_df\u001b[0m\u001b[0;34m.\u001b[0m\u001b[0mto_excel\u001b[0m\u001b[0;34m(\u001b[0m\u001b[0;34m\"Results/testn.xlsx\"\u001b[0m\u001b[0;34m)\u001b[0m\u001b[0;34m\u001b[0m\u001b[0;34m\u001b[0m\u001b[0m\n\u001b[0m",
      "\u001b[0;32m/opt/anaconda3/lib/python3.7/site-packages/pandas/core/generic.py\u001b[0m in \u001b[0;36mto_excel\u001b[0;34m(self, excel_writer, sheet_name, na_rep, float_format, columns, header, index, index_label, startrow, startcol, engine, merge_cells, encoding, inf_rep, verbose, freeze_panes)\u001b[0m\n\u001b[1;32m   2254\u001b[0m             \u001b[0mstartcol\u001b[0m\u001b[0;34m=\u001b[0m\u001b[0mstartcol\u001b[0m\u001b[0;34m,\u001b[0m\u001b[0;34m\u001b[0m\u001b[0;34m\u001b[0m\u001b[0m\n\u001b[1;32m   2255\u001b[0m             \u001b[0mfreeze_panes\u001b[0m\u001b[0;34m=\u001b[0m\u001b[0mfreeze_panes\u001b[0m\u001b[0;34m,\u001b[0m\u001b[0;34m\u001b[0m\u001b[0;34m\u001b[0m\u001b[0m\n\u001b[0;32m-> 2256\u001b[0;31m             \u001b[0mengine\u001b[0m\u001b[0;34m=\u001b[0m\u001b[0mengine\u001b[0m\u001b[0;34m,\u001b[0m\u001b[0;34m\u001b[0m\u001b[0;34m\u001b[0m\u001b[0m\n\u001b[0m\u001b[1;32m   2257\u001b[0m         )\n\u001b[1;32m   2258\u001b[0m \u001b[0;34m\u001b[0m\u001b[0m\n",
      "\u001b[0;32m/opt/anaconda3/lib/python3.7/site-packages/pandas/io/formats/excel.py\u001b[0m in \u001b[0;36mwrite\u001b[0;34m(self, writer, sheet_name, startrow, startcol, freeze_panes, engine)\u001b[0m\n\u001b[1;32m    740\u001b[0m         )\n\u001b[1;32m    741\u001b[0m         \u001b[0;32mif\u001b[0m \u001b[0mneed_save\u001b[0m\u001b[0;34m:\u001b[0m\u001b[0;34m\u001b[0m\u001b[0;34m\u001b[0m\u001b[0m\n\u001b[0;32m--> 742\u001b[0;31m             \u001b[0mwriter\u001b[0m\u001b[0;34m.\u001b[0m\u001b[0msave\u001b[0m\u001b[0;34m(\u001b[0m\u001b[0;34m)\u001b[0m\u001b[0;34m\u001b[0m\u001b[0;34m\u001b[0m\u001b[0m\n\u001b[0m",
      "\u001b[0;32m/opt/anaconda3/lib/python3.7/site-packages/pandas/io/excel/_xlsxwriter.py\u001b[0m in \u001b[0;36msave\u001b[0;34m(self)\u001b[0m\n\u001b[1;32m    193\u001b[0m         \"\"\"\n\u001b[1;32m    194\u001b[0m \u001b[0;34m\u001b[0m\u001b[0m\n\u001b[0;32m--> 195\u001b[0;31m         \u001b[0;32mreturn\u001b[0m \u001b[0mself\u001b[0m\u001b[0;34m.\u001b[0m\u001b[0mbook\u001b[0m\u001b[0;34m.\u001b[0m\u001b[0mclose\u001b[0m\u001b[0;34m(\u001b[0m\u001b[0;34m)\u001b[0m\u001b[0;34m\u001b[0m\u001b[0;34m\u001b[0m\u001b[0m\n\u001b[0m\u001b[1;32m    196\u001b[0m \u001b[0;34m\u001b[0m\u001b[0m\n\u001b[1;32m    197\u001b[0m     def write_cells(\n",
      "\u001b[0;32m/opt/anaconda3/lib/python3.7/site-packages/xlsxwriter/workbook.py\u001b[0m in \u001b[0;36mclose\u001b[0;34m(self)\u001b[0m\n\u001b[1;32m    311\u001b[0m                 \u001b[0mself\u001b[0m\u001b[0;34m.\u001b[0m\u001b[0m_store_workbook\u001b[0m\u001b[0;34m(\u001b[0m\u001b[0;34m)\u001b[0m\u001b[0;34m\u001b[0m\u001b[0;34m\u001b[0m\u001b[0m\n\u001b[1;32m    312\u001b[0m             \u001b[0;32mexcept\u001b[0m \u001b[0mIOError\u001b[0m \u001b[0;32mas\u001b[0m \u001b[0me\u001b[0m\u001b[0;34m:\u001b[0m\u001b[0;34m\u001b[0m\u001b[0;34m\u001b[0m\u001b[0m\n\u001b[0;32m--> 313\u001b[0;31m                 \u001b[0;32mraise\u001b[0m \u001b[0mFileCreateError\u001b[0m\u001b[0;34m(\u001b[0m\u001b[0me\u001b[0m\u001b[0;34m)\u001b[0m\u001b[0;34m\u001b[0m\u001b[0;34m\u001b[0m\u001b[0m\n\u001b[0m\u001b[1;32m    314\u001b[0m             \u001b[0;32mexcept\u001b[0m \u001b[0mLargeZipFile\u001b[0m \u001b[0;32mas\u001b[0m \u001b[0me\u001b[0m\u001b[0;34m:\u001b[0m\u001b[0;34m\u001b[0m\u001b[0;34m\u001b[0m\u001b[0m\n\u001b[1;32m    315\u001b[0m                 raise FileSizeError(\"Filesize would require ZIP64 extensions. \"\n",
      "\u001b[0;31mFileCreateError\u001b[0m: [Errno 2] No such file or directory: 'Results/testn.xlsx'"
     ]
    }
   ],
   "source": [
    "# Split data into windows for further processing\n",
    "\n",
    "# NumPy is a popular library for fast numerical computations with large arrays and matrices.\n",
    "# At https://colab.research.google.com/github/jakevdp/PythonDataScienceHandbook/blob/master/notebooks/02.00-Introduction-to-NumPy.ipynb\n",
    "# you can find an introduction to NumPy (Click on \"Understanding Data Types in Python >\" for the next page)\n",
    "import numpy as np\n",
    "\n",
    "#window size in ms\n",
    "window_size = 6000\n",
    "\n",
    "# dataframe containing the features.\n",
    "# Columns: mean acceleration, max speed, transportation mode (target variable)\n",
    "features_df = pd.DataFrame()\n",
    "\n",
    "# iterate over all legs\n",
    "for index, row in legs_df.iterrows():\n",
    "    print('windowing', row['user'], row['id'])\n",
    "    boundary_left = row['start']\n",
    "    boundary_right = boundary_left + window_size\n",
    "    previous_bluetooth = 0\n",
    "    previous_wifi = 0\n",
    "    \n",
    "    current_leg_df_acc = acc_readings.loc[\n",
    "                (acc_readings['user'] == row['user']) &\n",
    "                (acc_readings['leg'] == row['id'])\n",
    "            ].copy()\n",
    "    \n",
    "    current_leg_df_gyro = gyro_readings.loc[\n",
    "                (gyro_readings['user'] == row['user']) &\n",
    "                (gyro_readings['leg'] == row['id'])\n",
    "            ].copy()\n",
    "    \n",
    "    current_leg_df_magn = magn_readings.loc[\n",
    "                (magn_readings['user'] == row['user']) &\n",
    "                (magn_readings['leg'] == row['id'])\n",
    "            ].copy()\n",
    "    \n",
    "    current_leg_df_loc = locations_scans.loc[\n",
    "                (locations_scans['user'] == row['user']) &\n",
    "                (locations_scans['leg'] == row['id'])\n",
    "            ].copy()\n",
    "    \n",
    "    while boundary_right < row['end']:\n",
    "        features = {}\n",
    "        \n",
    "        \n",
    "        # Accelerometer Data  \n",
    "        acc_readings_in_window = current_leg_df_acc.loc[\n",
    "            (current_leg_df_acc['reading'] > boundary_left) &\n",
    "            (current_leg_df_acc['reading'] <= boundary_right)\n",
    "        ].copy()\n",
    "        # calculate magnitude\n",
    "        acc_readings_in_window['magnitude'] = np.linalg.norm(acc_readings_in_window[['x','y','z']].values,axis=1)\n",
    "        # save mean magnitude as feature\n",
    "        features['acc_mean'] = acc_readings_in_window['magnitude'].mean()\n",
    "        features['acc_x'] = acc_readings_in_window['x'].mean()\n",
    "        features['acc_y'] = acc_readings_in_window['y'].mean()\n",
    "        features['acc_z'] = acc_readings_in_window['z'].mean()\n",
    "        \n",
    "        # Location Data\n",
    "        loc_readings_in_window = current_leg_df_loc.loc[\n",
    "            (current_leg_df_loc['reading'] > boundary_left) &\n",
    "            (current_leg_df_loc['reading'] <= boundary_right)\n",
    "        ].copy()\n",
    "        # save mean magnitude as feature\n",
    "        features['min_speed'] = loc_readings_in_window['speed'].min()\n",
    "        features['max_speed'] = loc_readings_in_window['speed'].max()\n",
    "        features['avg_speed'] = loc_readings_in_window['speed'].mean()\n",
    "        features['accuracy_gps'] = loc_readings_in_window['acc'].mean()\n",
    "    \n",
    "        # Bluetooth Data\n",
    "        bluetooth_scans_in_window = bluetooth_scans.loc[\n",
    "                (bluetooth_scans['leg'] == row['id']) &\n",
    "                (bluetooth_scans['user'] == row['user']) &\n",
    "                (bluetooth_scans['reading_time'] > boundary_left) &\n",
    "                (bluetooth_scans['reading_time'] <= boundary_right)\n",
    "            ].copy()\n",
    "        # Unique Bluetooth devices\n",
    "        if (len(bluetooth_scans_in_window.mac) == 0): \n",
    "            if (bluetooth_scans_in_window['mac'].nunique() != 0):\n",
    "                features['bluetooth_numbers'] = bluetooth_scans_in_window['mac'].nunique()\n",
    "                previous_bluetooth = bluetooth_scans_in_window['mac'].nunique()\n",
    "            else:\n",
    "                features['bluetooth_numbers'] = previous_bluetooth \n",
    "        else:\n",
    "            features['bluetooth_numbers'] = bluetooth_scans_in_window['mac'].nunique()\n",
    "            previous_bluetooth = bluetooth_scans_in_window['mac'].nunique()\n",
    "            \n",
    "        \n",
    "        # WIFI\n",
    "        '''wifi_scans_in_window = wifi_scans.loc[\n",
    "                (wifi_scans['leg'] == row['id']) &\n",
    "                (wifi_scans['user'] == row['user']) &\n",
    "                (wifi_scans['reading_time'] > boundary_left) &\n",
    "                (wifi_scans['reading_time'] <= boundary_right)\n",
    "            ].copy()\n",
    "        \n",
    "        if (len(wifi_scans_in_window.bssid) == 0):   \n",
    "            print(\"EMPTY\")\n",
    "            if (wifi_scans_in_window['bssid'].nunique() != 0):\n",
    "                features['wifi_numbers'] = wifi_scans_in_window['bssid'].nunique()\n",
    "                previous_wifi = wifi_scans_in_window['bssid'].nunique()\n",
    "                print(wifi_scans_in_window['bssid'].nunique())\n",
    "            else:\n",
    "                features['wifi_numbers'] = previous_wifi  \n",
    "                print(previous_wifi)\n",
    "        else:\n",
    "            print(\"NOT EMPTY\")\n",
    "            features['wifi_numbers'] = wifi_scans_in_window['bssid'].nunique()\n",
    "            previous_wifi = wifi_scans_in_window['bssid'].nunique()\n",
    "            print(wifi_scans_in_window['bssid'].nunique())'''             \n",
    "        \n",
    "        #Get Gyro\n",
    "        gyro_readings_in_window = current_leg_df_gyro.loc[\n",
    "            (current_leg_df_gyro['reading'] > boundary_left) &\n",
    "            (current_leg_df_gyro['reading'] <= boundary_right)\n",
    "        ].copy()\n",
    "        # calculate magnitude\n",
    "        gyro_readings_in_window['magnitude'] = np.linalg.norm(gyro_readings_in_window[['x','y','z']].values,axis=1) \n",
    "        # save mean magnitude as feature\n",
    "        features['gyro_mean'] = gyro_readings_in_window['magnitude'].mean()\n",
    "        features['gyro_x'] = gyro_readings_in_window['x'].mean()\n",
    "        features['gyro_y'] = gyro_readings_in_window['y'].mean()\n",
    "        features['gyro_z'] = gyro_readings_in_window['z'].mean()\n",
    "        \n",
    "        #Magnetic Field Data\n",
    "        magn_readings_in_window = current_leg_df_magn.loc[\n",
    "            (current_leg_df_magn['reading'] > boundary_left) &\n",
    "            (current_leg_df_magn['reading'] <= boundary_right)\n",
    "        ].copy()\n",
    "        # calculate magnitude\n",
    "        magn_readings_in_window['magnitude'] = np.linalg.norm(magn_readings_in_window[['x','y','z']].values,axis=1) \n",
    "        # save mean magnitude as feature\n",
    "        features['magn_mean'] = magn_readings_in_window['magnitude'].mean()\n",
    "        features['magn_x'] = magn_readings_in_window['x'].mean()\n",
    "        features['magn_y'] = magn_readings_in_window['y'].mean()\n",
    "        features['magn_z'] = magn_readings_in_window['z'].mean()\n",
    "        \n",
    "        \n",
    "        # save user, leg and transportation mode\n",
    "        features['user'] = row['user']\n",
    "        features['leg'] = row['id']\n",
    "        features['mode'] = row['mode']\n",
    "        \n",
    "        # save features in features data frame\n",
    "        features_df = features_df.append(features, ignore_index=True)\n",
    "        \n",
    "        # set new boundaries\n",
    "        boundary_left = boundary_right\n",
    "        boundary_right = boundary_left + window_size\n",
    "        \n",
    "print('Feature calculation done')\n",
    "print(features_df.head())\n",
    "\n",
    "#features_df.to_csv(\"window_features.csv\")\n",
    "#features_df.to_excel(\"Results/testn.xlsx\")\n"
   ]
  },
  {
   "cell_type": "code",
   "execution_count": 6,
   "metadata": {},
   "outputs": [],
   "source": [
    "features_df.to_pickle(\"./feature_dfnew6stom.pkl\")"
   ]
  },
  {
   "cell_type": "markdown",
   "metadata": {
    "colab_type": "text",
    "id": "DflJCllEwcQa"
   },
   "source": [
    "# Shuffle split data into training and test set"
   ]
  },
  {
   "cell_type": "code",
   "execution_count": 7,
   "metadata": {
    "colab": {},
    "colab_type": "code",
    "id": "NcSBZ355wcQa",
    "pycharm": {
     "is_executing": false,
     "name": "#%%\n"
    }
   },
   "outputs": [
    {
     "name": "stdout",
     "output_type": "stream",
     "text": [
      "Shape of X_train (15252, 17)\n",
      "Shape of y_train (15252,)\n",
      "Shape of X_test (6537, 17)\n",
      "Shape of y_test (6537,)\n"
     ]
    }
   ],
   "source": [
    "# Randomly split data into training and test set\n",
    "\n",
    "# Scikit-Learn is a popular library for common machine learning algorithms.\n",
    "# Here, it is used only for its support for efficiently splitting a dataset.\n",
    "# For more information, see https://colab.research.google.com/github/jakevdp/PythonDataScienceHandbook/blob/master/notebooks/05.02-Introducing-Scikit-Learn.ipynb\n",
    "from sklearn.model_selection import StratifiedShuffleSplit\n",
    "\n",
    "y = np.array(features_df['mode'])\n",
    "X = np.array(features_df.drop(['user', 'leg', 'mode'], axis=1))\n",
    "X = np.nan_to_num(X)\n",
    "\n",
    "shuffle_split = StratifiedShuffleSplit(n_splits=1, test_size=0.3, random_state=42)\n",
    "\n",
    "train_indices, test_indices = next(shuffle_split.split(X=X, y=y))\n",
    "\n",
    "X_train, X_test = X[train_indices], X[test_indices]\n",
    "y_train, y_test = y[train_indices], y[test_indices]\n",
    "\n",
    "print('Shape of X_train', X_train.shape)\n",
    "print('Shape of y_train', y_train.shape)\n",
    "print('Shape of X_test', X_test.shape)\n",
    "print('Shape of y_test', y_test.shape)"
   ]
  },
  {
   "cell_type": "markdown",
   "metadata": {
    "colab_type": "text",
    "id": "nK-wgH9HwcQc"
   },
   "source": [
    "# Train XGBoost on training set"
   ]
  },
  {
   "cell_type": "code",
   "execution_count": 11,
   "metadata": {
    "colab": {},
    "colab_type": "code",
    "id": "QzON3v_kwcQc",
    "pycharm": {
     "is_executing": false,
     "name": "#%%\n"
    }
   },
   "outputs": [
    {
     "name": "stdout",
     "output_type": "stream",
     "text": [
      "Training done\n"
     ]
    }
   ],
   "source": [
    "# Train Gradient Boosted Decisions Trees\n",
    "\n",
    "#XGBoost implements the\"Extreme Gradient Boosting\" algorithm.\n",
    "import xgboost as xgb\n",
    "\n",
    "xgb_classifier = xgb.XGBClassifier(n_jobs=-1, objective='multi:softprob', random_state=42, n_estimators = 500, learning_rate = 0.25)\n",
    "\n",
    "xgb_classifier.fit(X_train, y_train)\n",
    "\n",
    "print('Training done')"
   ]
  },
  {
   "cell_type": "markdown",
   "metadata": {
    "colab_type": "text",
    "id": "PHAh8ppdwcQe"
   },
   "source": [
    "# Make classifications on testing set"
   ]
  },
  {
   "cell_type": "code",
   "execution_count": 12,
   "metadata": {
    "colab": {},
    "colab_type": "code",
    "id": "3Mih0n5zwcQe",
    "pycharm": {
     "is_executing": false,
     "name": "#%%\n"
    }
   },
   "outputs": [
    {
     "name": "stdout",
     "output_type": "stream",
     "text": [
      "Shape of y_pred (6537,)\n"
     ]
    }
   ],
   "source": [
    "y_pred = xgb_classifier.predict(X_test)\n",
    "\n",
    "print('Shape of y_pred', y_pred.shape)"
   ]
  },
  {
   "cell_type": "markdown",
   "metadata": {
    "colab_type": "text",
    "id": "CSUDPtu5wcQf"
   },
   "source": [
    "# Print classification reports"
   ]
  },
  {
   "cell_type": "code",
   "execution_count": 13,
   "metadata": {
    "colab": {},
    "colab_type": "code",
    "id": "x2a3eZdqwcQg",
    "pycharm": {
     "is_executing": false,
     "name": "#%%\n"
    }
   },
   "outputs": [
    {
     "name": "stdout",
     "output_type": "stream",
     "text": [
      "              precision    recall  f1-score   support\n",
      "\n",
      "         2.0     0.9400    0.9648    0.9522      2242\n",
      "         3.0     0.9226    0.9051    0.9137       316\n",
      "         4.0     0.9236    0.7436    0.8239       195\n",
      "         5.0     0.9776    0.9656    0.9716       407\n",
      "       304.0     0.9071    0.9363    0.9215      1272\n",
      "       601.0     0.9276    0.8981    0.9126      1070\n",
      "       602.0     0.8548    0.4953    0.6272       107\n",
      "       605.0     0.9561    0.9849    0.9703       928\n",
      "\n",
      "    accuracy                         0.9341      6537\n",
      "   macro avg     0.9262    0.8617    0.8866      6537\n",
      "weighted avg     0.9335    0.9341    0.9325      6537\n",
      "\n",
      "Predicted  2.0    3.0    4.0    5.0    304.0  601.0  602.0  605.0\n",
      "Actual                                                           \n",
      "2.0         2163      5      1      2     47     23      1      0\n",
      "3.0            9    286      0      0     19      2      0      0\n",
      "4.0            9      0    145      4     27      9      1      0\n",
      "5.0            5      1      2    393      5      1      0      0\n",
      "304.0         43     17      7      3   1191     11      0      0\n",
      "601.0         67      1      2      0     17    961      4     18\n",
      "602.0          4      0      0      0      6     20     53     24\n",
      "605.0          1      0      0      0      1      9      3    914\n"
     ]
    }
   ],
   "source": [
    "from sklearn.metrics import classification_report\n",
    "\n",
    "print(classification_report(y_test, y_pred, digits=4))\n",
    "\n",
    "# confusion matrix\n",
    "confMatrix = pd.crosstab(y_test, y_pred, rownames=['Actual'], colnames=['Predicted'])\n",
    "print(confMatrix)"
   ]
  },
  {
   "cell_type": "markdown",
   "metadata": {
    "colab_type": "text",
    "id": "-D9Rd820wcQh"
   },
   "source": [
    "# Train model on whole set and export it"
   ]
  },
  {
   "cell_type": "code",
   "execution_count": 8,
   "metadata": {
    "colab": {},
    "colab_type": "code",
    "id": "S8wqxt3MwcQi",
    "pycharm": {
     "is_executing": false,
     "name": "#%%\n"
    }
   },
   "outputs": [
    {
     "name": "stdout",
     "output_type": "stream",
     "text": [
      "xgboost.model\n",
      "model exported\n"
     ]
    }
   ],
   "source": [
    "xgb_classifier.fit(X, y)\n",
    "print('xgboost.model')\n",
    "xgb_classifier.save_model('xgboost_model_test')\n",
    "print('model exported')"
   ]
  },
  {
   "cell_type": "code",
   "execution_count": 9,
   "metadata": {},
   "outputs": [
    {
     "data": {
      "text/plain": [
       "'import pandas as pd\\nimport openpyxl\\n\\ndf = pd.read_csv(\\'window.csv\\', index_col=False)\\ndf.to_excel(\"Results/acc_mean.xlsx\")\\n\\ndf.loc[df[\\'mode\\'] == 2.0]\\nprint(df.head())\\ndf_acc_mean = df[[\\'acc_mean\\', \\'mode\\']]\\ndf_acc_mean.loc[df_acc_mean[\\'mode\\'] == \\'2.0\\']\\ndf_acc_mean.dropna(axis=1)\\n\\nprint(df_acc_mean[\\'acc_mean\\'].mean())\\n\\n\\n#df.loc[df[\\'acc_mean\\'] == some_value]'"
      ]
     },
     "execution_count": 9,
     "metadata": {},
     "output_type": "execute_result"
    }
   ],
   "source": [
    "'''import pandas as pd\n",
    "import openpyxl\n",
    "\n",
    "df = pd.read_csv('window.csv', index_col=False)\n",
    "df.to_excel(\"Results/acc_mean.xlsx\")\n",
    "\n",
    "df.loc[df['mode'] == 2.0]\n",
    "print(df.head())\n",
    "df_acc_mean = df[['acc_mean', 'mode']]\n",
    "df_acc_mean.loc[df_acc_mean['mode'] == '2.0']\n",
    "df_acc_mean.dropna(axis=1)\n",
    "\n",
    "print(df_acc_mean['acc_mean'].mean())\n",
    "\n",
    "\n",
    "#df.loc[df['acc_mean'] == some_value]'''\n"
   ]
  },
  {
   "cell_type": "code",
   "execution_count": 26,
   "metadata": {},
   "outputs": [
    {
     "data": {
      "image/png": "[encoded data removed]",
      "text/plain": [
       "<Figure size 432x288 with 1 Axes>"
      ]
     },
     "metadata": {
      "needs_background": "light"
     },
     "output_type": "display_data"
    }
   ],
   "source": [
    "#feature importance \n",
    "\n",
    "from xgboost import plot_importance\n",
    "from matplotlib import pyplot\n",
    "\n",
    "# fit model no training data\n",
    "model = XGBClassifier()\n",
    "model.fit(X, y)\n",
    "# plot feature importance\n",
    "plot_importance(model)\n",
    "pyplot.show()"
   ]
  },
  {
   "cell_type": "code",
   "execution_count": 17,
   "metadata": {},
   "outputs": [
    {
     "name": "stdout",
     "output_type": "stream",
     "text": [
      "Accuracy: 87.87%\n",
      "Thresh=0.005, n=17, Accuracy: 87.87%\n",
      "Thresh=0.008, n=16, Accuracy: 87.87%\n",
      "Thresh=0.011, n=15, Accuracy: 87.90%\n",
      "Thresh=0.020, n=14, Accuracy: 88.02%\n",
      "Thresh=0.023, n=13, Accuracy: 87.84%\n",
      "Thresh=0.023, n=12, Accuracy: 87.95%\n",
      "Thresh=0.033, n=11, Accuracy: 87.73%\n",
      "Thresh=0.037, n=10, Accuracy: 87.09%\n",
      "Thresh=0.042, n=9, Accuracy: 87.09%\n",
      "Thresh=0.045, n=8, Accuracy: 85.79%\n",
      "Thresh=0.050, n=7, Accuracy: 83.13%\n",
      "Thresh=0.056, n=6, Accuracy: 80.88%\n",
      "Thresh=0.085, n=5, Accuracy: 77.93%\n",
      "Thresh=0.099, n=4, Accuracy: 77.59%\n",
      "Thresh=0.114, n=3, Accuracy: 71.81%\n",
      "Thresh=0.165, n=2, Accuracy: 56.19%\n",
      "Thresh=0.184, n=1, Accuracy: 54.11%\n"
     ]
    }
   ],
   "source": [
    "# fit model on all training data\n",
    "# check it out\n",
    "\n",
    "model = XGBClassifier()\n",
    "model.fit(X_train, y_train)\n",
    "# make predictions for test data and evaluate\n",
    "y_pred = model.predict(X_test)\n",
    "predictions = [round(value) for value in y_pred]\n",
    "accuracy = accuracy_score(y_test, predictions)\n",
    "print(\"Accuracy: %.2f%%\" % (accuracy * 100.0))\n",
    "# Fit model using each importance as a threshold\n",
    "thresholds = sort(model.feature_importances_)\n",
    "for thresh in thresholds:\n",
    "    # select features using threshold\n",
    "    selection = SelectFromModel(model, threshold=thresh, prefit=True)\n",
    "    select_X_train = selection.transform(X_train)\n",
    "    # train model\n",
    "    selection_model = XGBClassifier()\n",
    "    selection_model.fit(select_X_train, y_train)\n",
    "    # eval model\n",
    "    select_X_test = selection.transform(X_test)\n",
    "    y_pred = selection_model.predict(select_X_test)\n",
    "    predictions = [round(value) for value in y_pred]\n",
    "    accuracy = accuracy_score(y_test, predictions)\n",
    "    print(\"Thresh=%.3f, n=%d, Accuracy: %.2f%%\" % (thresh, select_X_train.shape[1], accuracy*100.0))\n",
    "    \n",
    "#source: https://machinelearningmastery.com/feature-importance-and-feature-selection-with-xgboost-in-python/"
   ]
  },
  {
   "cell_type": "code",
   "execution_count": null,
   "metadata": {},
   "outputs": [],
   "source": [
    "# grid search for Hyperparameter tuning \n",
    "import pyplot\n",
    "import numpy as np\n",
    "model = XGBClassifier()\n",
    "n_estimators = [200, 350, 500, 650, 800, 1000]\n",
    "learning_rate = [0.001 , 0.01, 0.1, 0.2]\n",
    "param_grid = dict(learning_rate=learning_rate, n_estimators=n_estimators)\n",
    "kfold = StratifiedKFold(n_splits=10, shuffle=True, random_state=7)\n",
    "grid_search = GridSearchCV(model, param_grid, scoring=\"neg_log_loss\", n_jobs=-1, cv=kfold)\n",
    "grid_result = grid_search.fit(X, y)\n",
    "# summarize results\n",
    "print(\"Best: %f using %s\" % (grid_result.best_score_, grid_result.best_params_))\n",
    "means = grid_result.cv_results_['mean_test_score']\n",
    "stds = grid_result.cv_results_['std_test_score']\n",
    "params = grid_result.cv_results_['params']\n",
    "for mean, stdev, param in zip(means, stds, params):\n",
    "\tprint(\"%f (%f) with: %r\" % (mean, stdev, param))\n",
    "# plot results\n",
    "scores = np.array(means).reshape(len(learning_rate), len(n_estimators))\n",
    "for i, value in enumerate(learning_rate):\n",
    "    pyplot.plot(n_estimators, scores[i], label='learning_rate: ' + str(value))\n",
    "pyplot.legend()\n",
    "pyplot.xlabel('n_estimators')\n",
    "pyplot.ylabel('Log Loss')\n",
    "pyplot.savefig('n_estimators_vs_learning_rate.png')"
   ]
  }
 ],
 "metadata": {
  "accelerator": "GPU",
  "colab": {
   "collapsed_sections": [],
   "name": "xgboost_sample.ipynb",
   "provenance": []
  },
  "kernelspec": {
   "display_name": "Python 3",
   "language": "python",
   "name": "python3"
  },
  "language_info": {
   "codemirror_mode": {
    "name": "ipython",
    "version": 3
   },
   "file_extension": ".py",
   "mimetype": "text/x-python",
   "name": "python",
   "nbconvert_exporter": "python",
   "pygments_lexer": "ipython3",
   "version": "3.7.4"
  },
  "pycharm": {
   "stem_cell": {
    "cell_type": "raw",
    "metadata": {
     "collapsed": false
    },
    "source": []
   }
  }
 },
 "nbformat": 4,
 "nbformat_minor": 1
}
