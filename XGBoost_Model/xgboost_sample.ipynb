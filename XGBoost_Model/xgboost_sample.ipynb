{
 "cells": [
  {
   "cell_type": "markdown",
   "metadata": {
    "colab_type": "text",
    "collapsed": true,
    "id": "u1M7_qBcwcQV",
    "pycharm": {
     "name": "#%% md\n"
    }
   },
   "source": [
    "# Load dataset"
   ]
  },
  {
   "cell_type": "code",
   "execution_count": 1,
   "metadata": {
    "colab": {
     "base_uri": "https://localhost:8080/",
     "height": 52
    },
    "colab_type": "code",
    "executionInfo": {
     "elapsed": 9267,
     "status": "ok",
     "timestamp": 1569357528010,
     "user": {
      "displayName": "Alexander Viand",
      "photoUrl": "https://lh3.googleusercontent.com/a-/AAuE7mD2b1pXDtuAf2EXkpsbn2OYZMGfOX4IeRzqaXrORw=s64",
      "userId": "11695472764543316504"
     },
     "user_tz": -120
    },
    "id": "XZhVuuGuwgCl",
    "outputId": "95d73ab8-ca26-422d-d6ca-6c6695fe82f2"
   },
   "outputs": [
    {
     "name": "stdout",
     "output_type": "stream",
     "text": [
      "Data ready\n"
     ]
    }
   ],
   "source": [
    "# Download & Unzip the dataset, unless it's already present\n",
    "from pathlib import Path\n",
    "\n",
    "url = 'https://www.vs.inf.ethz.ch/edu/HS2019/SE/xXjxkLul5TDrlSbniZFaIUu1gKUjZ2qj/example_data.zip'\n",
    "\n",
    "if not Path(\"./example_data\").is_dir():\n",
    "  if not Path(\"./example_data.zip\").is_file():\n",
    "    !pip install wget\n",
    "    import wget\n",
    "    wget.download(url,'./example_data.zip')\n",
    "  from zipfile import ZipFile\n",
    "  ZipFile('example_data.zip','r').extractall()\n",
    "print('Data ready')"
   ]
  },
  {
   "cell_type": "code",
   "execution_count": 3,
   "metadata": {
    "colab": {
     "base_uri": "https://localhost:8080/",
     "height": 263
    },
    "colab_type": "code",
    "executionInfo": {
     "elapsed": 18066,
     "status": "ok",
     "timestamp": 1569357536816,
     "user": {
      "displayName": "Alexander Viand",
      "photoUrl": "https://lh3.googleusercontent.com/a-/AAuE7mD2b1pXDtuAf2EXkpsbn2OYZMGfOX4IeRzqaXrORw=s64",
      "userId": "11695472764543316504"
     },
     "user_tz": -120
    },
    "id": "IphfrEXgwcQW",
    "outputId": "2f8f5a32-27b6-4155-f33f-fb4758fe88e6",
    "pycharm": {
     "is_executing": false,
     "name": "#%%\n"
    }
   },
   "outputs": [
    {
     "name": "stderr",
     "output_type": "stream",
     "text": [
      "/opt/anaconda3/lib/python3.7/site-packages/numpy/lib/arraysetops.py:568: FutureWarning: elementwise comparison failed; returning scalar instead, but in the future will perform elementwise comparison\n",
      "  mask |= (ar1 == a)\n"
     ]
    },
    {
     "name": "stdout",
     "output_type": "stream",
     "text": [
      "LEGS:\n",
      "            end    id   mode         start  \\\n",
      "0  1.558109e+12  88.0  605.0  1.558108e+12   \n",
      "\n",
      "                                   user  \n",
      "0  408483c0-4287-456d-a35c-b14e28ce10ec  \n",
      "ACC:\n",
      "   acc  leg       reading                                  user        x  \\\n",
      "0    3   88  1.558108e+12  408483c0-4287-456d-a35c-b14e28ce10ec  0.00639   \n",
      "\n",
      "          y         z  \n",
      "0  0.030259  0.008629  \n",
      "LOC:\n",
      "   acc         alt  bearing        lat  leg       lng       reading  speed  \\\n",
      "0  3.0  492.416046        0  47.324327   88  8.530802  1.558108e+12    0.0   \n",
      "\n",
      "                                   user  \n",
      "0  408483c0-4287-456d-a35c-b14e28ce10ec  \n",
      "BT:\n",
      "   bond  leg                                           mac  major  minor  \\\n",
      "0    10   88  i9+Jk4aeNDTI5bh92RJ5qNJ3TpTWQfGkcNmElIRuBb0=   7936   7936   \n",
      "\n",
      "   reading_time  scan  signal  type                                  user  \n",
      "0  1.558108e+12  1987     -92     2  408483c0-4287-456d-a35c-b14e28ce10ec  \n",
      "GYRO:\n",
      "   acc  leg       reading                                  user         x  \\\n",
      "0    3   88  1.558108e+12  408483c0-4287-456d-a35c-b14e28ce10ec -0.003095   \n",
      "\n",
      "          y         z  \n",
      "0 -0.005172  0.002049  \n",
      "MAGN:\n",
      "   acc  leg       reading                                  user     x  \\\n",
      "0    3   88  1.558108e+12  408483c0-4287-456d-a35c-b14e28ce10ec -8.52   \n",
      "\n",
      "           y          z  \n",
      "0 -44.579998 -37.739998  \n",
      "WIFI:\n",
      "                                          bssid  leg  reading_time  scan  \\\n",
      "0  s7APfLPpsESN6tRKp5n7ZEwbYBrNUsqrkbn8g7ZQPlM=   88  1.558108e+12  1770   \n",
      "\n",
      "   signal          ssid  time_of_reading_since_start  \\\n",
      "0     -74  ENTREE-GUEST                 1.581451e+12   \n",
      "\n",
      "                                   user  \n",
      "0  408483c0-4287-456d-a35c-b14e28ce10ec  \n"
     ]
    }
   ],
   "source": [
    "import pandas as pd\n",
    "\n",
    "directory = 'example_data'\n",
    "\n",
    "legs_df = pd.read_csv(directory + '/legs.csv', index_col=0)\n",
    "acc_readings = pd.read_csv(directory + '/acc_readings.csv', index_col=0)\n",
    "locations_scans = pd.read_csv(directory + '/locations_scans.csv', index_col=0)\n",
    "\n",
    "bluetooth_scans = pd.read_csv(directory + '/bluetooth_scans.csv', index_col=0)\n",
    "gyro_readings = pd.read_csv(directory + '/gyro_readings.csv', index_col=0)\n",
    "magn_readings = pd.read_csv(directory + '/magn_readings.csv', index_col=0)\n",
    "wifi_scans = pd.read_csv(directory + '/wifi_scans.csv', index_col=0)\n",
    "\n",
    "print('LEGS:')\n",
    "print(legs_df.head(1))\n",
    "\n",
    "print('ACC:')\n",
    "print(acc_readings.head(1))\n",
    "      \n",
    "print('LOC:')\n",
    "print(locations_scans.head(1))\n",
    "      \n",
    "print('BT:')\n",
    "print(bluetooth_scans.head(1))\n",
    "      \n",
    "print('GYRO:')\n",
    "print(gyro_readings.head(1))\n",
    "      \n",
    "print('MAGN:')\n",
    "print(magn_readings.head(1))\n",
    "      \n",
    "print('WIFI:')\n",
    "print(wifi_scans.head(1))\n"
   ]
  },
  {
   "cell_type": "markdown",
   "metadata": {
    "colab_type": "text",
    "id": "KsXhb_DwwcQY",
    "pycharm": {
     "name": "#%% md\n"
    }
   },
   "source": [
    "# Calculate windows and features"
   ]
  },
  {
   "cell_type": "code",
   "execution_count": 8,
   "metadata": {
    "colab": {
     "base_uri": "https://localhost:8080/",
     "height": 34
    },
    "colab_type": "code",
    "id": "WUXpW0NrwcQY",
    "outputId": "740bef80-617a-4de3-f093-fd3df73dde16",
    "pycharm": {
     "is_executing": false,
     "name": "#%%\n"
    }
   },
   "outputs": [
    {
     "name": "stdout",
     "output_type": "stream",
     "text": [
      "windowing 408483c0-4287-456d-a35c-b14e28ce10ec 88.0\n",
      "windowing 408483c0-4287-456d-a35c-b14e28ce10ec 89.0\n",
      "windowing 408483c0-4287-456d-a35c-b14e28ce10ec 90.0\n",
      "windowing 408483c0-4287-456d-a35c-b14e28ce10ec 91.0\n",
      "windowing 408483c0-4287-456d-a35c-b14e28ce10ec 92.0\n",
      "windowing 408483c0-4287-456d-a35c-b14e28ce10ec 93.0\n",
      "windowing 408483c0-4287-456d-a35c-b14e28ce10ec 94.0\n",
      "windowing 408483c0-4287-456d-a35c-b14e28ce10ec 95.0\n",
      "windowing 408483c0-4287-456d-a35c-b14e28ce10ec 96.0\n",
      "windowing 408483c0-4287-456d-a35c-b14e28ce10ec 97.0\n",
      "windowing 408483c0-4287-456d-a35c-b14e28ce10ec 98.0\n",
      "windowing 408483c0-4287-456d-a35c-b14e28ce10ec 99.0\n",
      "windowing 408483c0-4287-456d-a35c-b14e28ce10ec 100.0\n",
      "windowing 408483c0-4287-456d-a35c-b14e28ce10ec 101.0\n",
      "windowing 408483c0-4287-456d-a35c-b14e28ce10ec 102.0\n",
      "windowing 408483c0-4287-456d-a35c-b14e28ce10ec 103.0\n",
      "windowing 408483c0-4287-456d-a35c-b14e28ce10ec 104.0\n",
      "windowing 408483c0-4287-456d-a35c-b14e28ce10ec 105.0\n",
      "windowing 408483c0-4287-456d-a35c-b14e28ce10ec 106.0\n",
      "windowing 408483c0-4287-456d-a35c-b14e28ce10ec 107.0\n",
      "windowing 408483c0-4287-456d-a35c-b14e28ce10ec 108.0\n",
      "windowing 408483c0-4287-456d-a35c-b14e28ce10ec 109.0\n",
      "windowing 408483c0-4287-456d-a35c-b14e28ce10ec 110.0\n",
      "windowing 408483c0-4287-456d-a35c-b14e28ce10ec 111.0\n",
      "windowing 408483c0-4287-456d-a35c-b14e28ce10ec 120.0\n",
      "windowing 408483c0-4287-456d-a35c-b14e28ce10ec 121.0\n",
      "windowing 408483c0-4287-456d-a35c-b14e28ce10ec 122.0\n",
      "windowing 408483c0-4287-456d-a35c-b14e28ce10ec 124.0\n",
      "windowing 408483c0-4287-456d-a35c-b14e28ce10ec 125.0\n",
      "windowing 408483c0-4287-456d-a35c-b14e28ce10ec 126.0\n",
      "windowing 408483c0-4287-456d-a35c-b14e28ce10ec 127.0\n",
      "windowing 408483c0-4287-456d-a35c-b14e28ce10ec 128.0\n",
      "windowing 408483c0-4287-456d-a35c-b14e28ce10ec 129.0\n",
      "windowing 408483c0-4287-456d-a35c-b14e28ce10ec 130.0\n",
      "windowing 408483c0-4287-456d-a35c-b14e28ce10ec 132.0\n",
      "windowing 408483c0-4287-456d-a35c-b14e28ce10ec 134.0\n",
      "windowing 408483c0-4287-456d-a35c-b14e28ce10ec 135.0\n",
      "windowing 408483c0-4287-456d-a35c-b14e28ce10ec 136.0\n",
      "windowing 408483c0-4287-456d-a35c-b14e28ce10ec 140.0\n",
      "windowing 408483c0-4287-456d-a35c-b14e28ce10ec 141.0\n",
      "windowing 408483c0-4287-456d-a35c-b14e28ce10ec 142.0\n",
      "windowing 408483c0-4287-456d-a35c-b14e28ce10ec 143.0\n",
      "windowing 408483c0-4287-456d-a35c-b14e28ce10ec 144.0\n",
      "windowing 408483c0-4287-456d-a35c-b14e28ce10ec 145.0\n",
      "windowing 408483c0-4287-456d-a35c-b14e28ce10ec 146.0\n",
      "windowing 408483c0-4287-456d-a35c-b14e28ce10ec 147.0\n",
      "windowing 408483c0-4287-456d-a35c-b14e28ce10ec 148.0\n",
      "windowing 408483c0-4287-456d-a35c-b14e28ce10ec 149.0\n",
      "windowing 408483c0-4287-456d-a35c-b14e28ce10ec 150.0\n",
      "windowing 408483c0-4287-456d-a35c-b14e28ce10ec 152.0\n",
      "windowing 408483c0-4287-456d-a35c-b14e28ce10ec 153.0\n",
      "windowing 408483c0-4287-456d-a35c-b14e28ce10ec 154.0\n",
      "windowing 408483c0-4287-456d-a35c-b14e28ce10ec 155.0\n",
      "windowing 408483c0-4287-456d-a35c-b14e28ce10ec 158.0\n",
      "windowing 408483c0-4287-456d-a35c-b14e28ce10ec 159.0\n",
      "windowing 408483c0-4287-456d-a35c-b14e28ce10ec 160.0\n",
      "windowing 408483c0-4287-456d-a35c-b14e28ce10ec 161.0\n",
      "windowing 408483c0-4287-456d-a35c-b14e28ce10ec 162.0\n",
      "windowing 408483c0-4287-456d-a35c-b14e28ce10ec 163.0\n",
      "windowing 408483c0-4287-456d-a35c-b14e28ce10ec 164.0\n",
      "windowing 408483c0-4287-456d-a35c-b14e28ce10ec 165.0\n",
      "windowing 408483c0-4287-456d-a35c-b14e28ce10ec 166.0\n",
      "windowing 408483c0-4287-456d-a35c-b14e28ce10ec 167.0\n",
      "windowing 408483c0-4287-456d-a35c-b14e28ce10ec 168.0\n",
      "windowing 408483c0-4287-456d-a35c-b14e28ce10ec 169.0\n",
      "windowing 408483c0-4287-456d-a35c-b14e28ce10ec 170.0\n",
      "windowing 408483c0-4287-456d-a35c-b14e28ce10ec 171.0\n",
      "windowing 408483c0-4287-456d-a35c-b14e28ce10ec 172.0\n",
      "windowing 408483c0-4287-456d-a35c-b14e28ce10ec 173.0\n",
      "windowing 408483c0-4287-456d-a35c-b14e28ce10ec 174.0\n",
      "windowing 408483c0-4287-456d-a35c-b14e28ce10ec 175.0\n",
      "windowing 408483c0-4287-456d-a35c-b14e28ce10ec 176.0\n",
      "windowing 408483c0-4287-456d-a35c-b14e28ce10ec 177.0\n",
      "windowing 408483c0-4287-456d-a35c-b14e28ce10ec 178.0\n",
      "windowing 408483c0-4287-456d-a35c-b14e28ce10ec 179.0\n",
      "windowing 408483c0-4287-456d-a35c-b14e28ce10ec 183.0\n",
      "windowing 408483c0-4287-456d-a35c-b14e28ce10ec 184.0\n",
      "windowing 408483c0-4287-456d-a35c-b14e28ce10ec 185.0\n",
      "windowing 408483c0-4287-456d-a35c-b14e28ce10ec 186.0\n",
      "windowing 408483c0-4287-456d-a35c-b14e28ce10ec 187.0\n",
      "windowing 408483c0-4287-456d-a35c-b14e28ce10ec 188.0\n",
      "windowing 408483c0-4287-456d-a35c-b14e28ce10ec 189.0\n",
      "windowing 408483c0-4287-456d-a35c-b14e28ce10ec 190.0\n",
      "windowing 408483c0-4287-456d-a35c-b14e28ce10ec 191.0\n",
      "windowing 408483c0-4287-456d-a35c-b14e28ce10ec 192.0\n",
      "windowing 408483c0-4287-456d-a35c-b14e28ce10ec 193.0\n",
      "windowing 408483c0-4287-456d-a35c-b14e28ce10ec 195.0\n",
      "windowing 408483c0-4287-456d-a35c-b14e28ce10ec 207.0\n",
      "windowing 408483c0-4287-456d-a35c-b14e28ce10ec 208.0\n",
      "windowing 408483c0-4287-456d-a35c-b14e28ce10ec 210.0\n",
      "windowing 408483c0-4287-456d-a35c-b14e28ce10ec 211.0\n",
      "windowing 408483c0-4287-456d-a35c-b14e28ce10ec 212.0\n",
      "windowing 408483c0-4287-456d-a35c-b14e28ce10ec 315.0\n",
      "windowing 408483c0-4287-456d-a35c-b14e28ce10ec 318.0\n",
      "windowing 408483c0-4287-456d-a35c-b14e28ce10ec 319.0\n",
      "windowing 408483c0-4287-456d-a35c-b14e28ce10ec 320.0\n",
      "windowing 408483c0-4287-456d-a35c-b14e28ce10ec 321.0\n",
      "windowing 408483c0-4287-456d-a35c-b14e28ce10ec 322.0\n",
      "windowing 408483c0-4287-456d-a35c-b14e28ce10ec 326.0\n",
      "windowing 408483c0-4287-456d-a35c-b14e28ce10ec 327.0\n",
      "windowing 408483c0-4287-456d-a35c-b14e28ce10ec 328.0\n",
      "windowing 408483c0-4287-456d-a35c-b14e28ce10ec 329.0\n",
      "windowing 408483c0-4287-456d-a35c-b14e28ce10ec 330.0\n",
      "windowing 408483c0-4287-456d-a35c-b14e28ce10ec 331.0\n",
      "windowing 408483c0-4287-456d-a35c-b14e28ce10ec 332.0\n",
      "windowing 408483c0-4287-456d-a35c-b14e28ce10ec 333.0\n",
      "windowing 408483c0-4287-456d-a35c-b14e28ce10ec 334.0\n",
      "windowing 408483c0-4287-456d-a35c-b14e28ce10ec 336.0\n",
      "windowing 408483c0-4287-456d-a35c-b14e28ce10ec 337.0\n",
      "windowing 408483c0-4287-456d-a35c-b14e28ce10ec 338.0\n",
      "windowing 408483c0-4287-456d-a35c-b14e28ce10ec 339.0\n",
      "windowing 408483c0-4287-456d-a35c-b14e28ce10ec 340.0\n",
      "windowing 408483c0-4287-456d-a35c-b14e28ce10ec 341.0\n",
      "windowing 408483c0-4287-456d-a35c-b14e28ce10ec 342.0\n",
      "windowing 408483c0-4287-456d-a35c-b14e28ce10ec 343.0\n",
      "windowing 408483c0-4287-456d-a35c-b14e28ce10ec 344.0\n",
      "windowing 408483c0-4287-456d-a35c-b14e28ce10ec 345.0\n",
      "windowing 408483c0-4287-456d-a35c-b14e28ce10ec 346.0\n",
      "windowing 408483c0-4287-456d-a35c-b14e28ce10ec 347.0\n",
      "windowing 408483c0-4287-456d-a35c-b14e28ce10ec 348.0\n",
      "windowing 408483c0-4287-456d-a35c-b14e28ce10ec 349.0\n",
      "windowing 408483c0-4287-456d-a35c-b14e28ce10ec 350.0\n",
      "windowing 408483c0-4287-456d-a35c-b14e28ce10ec 352.0\n",
      "windowing 408483c0-4287-456d-a35c-b14e28ce10ec 353.0\n",
      "windowing 408483c0-4287-456d-a35c-b14e28ce10ec 354.0\n",
      "windowing 408483c0-4287-456d-a35c-b14e28ce10ec 355.0\n",
      "windowing 408483c0-4287-456d-a35c-b14e28ce10ec 361.0\n",
      "windowing fa7ab975-bd41-4c5a-82bb-1c5dd89c5a9f 1.0\n",
      "windowing fa7ab975-bd41-4c5a-82bb-1c5dd89c5a9f 2.0\n",
      "windowing fa7ab975-bd41-4c5a-82bb-1c5dd89c5a9f 4.0\n",
      "windowing fa7ab975-bd41-4c5a-82bb-1c5dd89c5a9f 5.0\n",
      "windowing fa7ab975-bd41-4c5a-82bb-1c5dd89c5a9f 8.0\n",
      "windowing fa7ab975-bd41-4c5a-82bb-1c5dd89c5a9f 9.0\n",
      "windowing fa7ab975-bd41-4c5a-82bb-1c5dd89c5a9f 10.0\n",
      "windowing fa7ab975-bd41-4c5a-82bb-1c5dd89c5a9f 11.0\n",
      "windowing fa7ab975-bd41-4c5a-82bb-1c5dd89c5a9f 12.0\n",
      "windowing fa7ab975-bd41-4c5a-82bb-1c5dd89c5a9f 13.0\n",
      "windowing fa7ab975-bd41-4c5a-82bb-1c5dd89c5a9f 14.0\n",
      "windowing fa7ab975-bd41-4c5a-82bb-1c5dd89c5a9f 15.0\n",
      "windowing fa7ab975-bd41-4c5a-82bb-1c5dd89c5a9f 16.0\n",
      "windowing fa7ab975-bd41-4c5a-82bb-1c5dd89c5a9f 17.0\n",
      "windowing fa7ab975-bd41-4c5a-82bb-1c5dd89c5a9f 18.0\n",
      "windowing fa7ab975-bd41-4c5a-82bb-1c5dd89c5a9f 19.0\n",
      "windowing fa7ab975-bd41-4c5a-82bb-1c5dd89c5a9f 21.0\n",
      "windowing fa7ab975-bd41-4c5a-82bb-1c5dd89c5a9f 22.0\n",
      "windowing fa7ab975-bd41-4c5a-82bb-1c5dd89c5a9f 23.0\n",
      "windowing fa7ab975-bd41-4c5a-82bb-1c5dd89c5a9f 24.0\n",
      "windowing fa7ab975-bd41-4c5a-82bb-1c5dd89c5a9f 25.0\n",
      "windowing fa7ab975-bd41-4c5a-82bb-1c5dd89c5a9f 26.0\n",
      "windowing fa7ab975-bd41-4c5a-82bb-1c5dd89c5a9f 27.0\n",
      "windowing fa7ab975-bd41-4c5a-82bb-1c5dd89c5a9f 28.0\n",
      "windowing fa7ab975-bd41-4c5a-82bb-1c5dd89c5a9f 29.0\n",
      "windowing fa7ab975-bd41-4c5a-82bb-1c5dd89c5a9f 30.0\n",
      "windowing fa7ab975-bd41-4c5a-82bb-1c5dd89c5a9f 31.0\n",
      "windowing fa7ab975-bd41-4c5a-82bb-1c5dd89c5a9f 32.0\n",
      "windowing fa7ab975-bd41-4c5a-82bb-1c5dd89c5a9f 33.0\n"
     ]
    },
    {
     "name": "stdout",
     "output_type": "stream",
     "text": [
      "windowing fa7ab975-bd41-4c5a-82bb-1c5dd89c5a9f 35.0\n",
      "windowing fa7ab975-bd41-4c5a-82bb-1c5dd89c5a9f 36.0\n",
      "windowing fa7ab975-bd41-4c5a-82bb-1c5dd89c5a9f 37.0\n",
      "windowing fa7ab975-bd41-4c5a-82bb-1c5dd89c5a9f 47.0\n",
      "windowing fa7ab975-bd41-4c5a-82bb-1c5dd89c5a9f 51.0\n",
      "windowing fa7ab975-bd41-4c5a-82bb-1c5dd89c5a9f 52.0\n",
      "windowing fa7ab975-bd41-4c5a-82bb-1c5dd89c5a9f 53.0\n",
      "windowing fa7ab975-bd41-4c5a-82bb-1c5dd89c5a9f 54.0\n",
      "windowing fa7ab975-bd41-4c5a-82bb-1c5dd89c5a9f 55.0\n",
      "windowing fa7ab975-bd41-4c5a-82bb-1c5dd89c5a9f 56.0\n",
      "windowing fa7ab975-bd41-4c5a-82bb-1c5dd89c5a9f 60.0\n",
      "windowing fa7ab975-bd41-4c5a-82bb-1c5dd89c5a9f 61.0\n",
      "windowing fa7ab975-bd41-4c5a-82bb-1c5dd89c5a9f 62.0\n",
      "windowing fa7ab975-bd41-4c5a-82bb-1c5dd89c5a9f 64.0\n",
      "windowing fa7ab975-bd41-4c5a-82bb-1c5dd89c5a9f 65.0\n",
      "windowing fa7ab975-bd41-4c5a-82bb-1c5dd89c5a9f 66.0\n",
      "windowing fa7ab975-bd41-4c5a-82bb-1c5dd89c5a9f 67.0\n",
      "windowing fa7ab975-bd41-4c5a-82bb-1c5dd89c5a9f 68.0\n",
      "windowing fa7ab975-bd41-4c5a-82bb-1c5dd89c5a9f 69.0\n",
      "windowing fa7ab975-bd41-4c5a-82bb-1c5dd89c5a9f 70.0\n",
      "windowing fa7ab975-bd41-4c5a-82bb-1c5dd89c5a9f 71.0\n",
      "windowing fa7ab975-bd41-4c5a-82bb-1c5dd89c5a9f 72.0\n",
      "windowing fa7ab975-bd41-4c5a-82bb-1c5dd89c5a9f 73.0\n",
      "windowing fa7ab975-bd41-4c5a-82bb-1c5dd89c5a9f 97.0\n",
      "windowing fa7ab975-bd41-4c5a-82bb-1c5dd89c5a9f 98.0\n",
      "windowing fa7ab975-bd41-4c5a-82bb-1c5dd89c5a9f 99.0\n",
      "windowing fa7ab975-bd41-4c5a-82bb-1c5dd89c5a9f 100.0\n",
      "windowing fa7ab975-bd41-4c5a-82bb-1c5dd89c5a9f 101.0\n",
      "windowing fa7ab975-bd41-4c5a-82bb-1c5dd89c5a9f 102.0\n",
      "windowing fa7ab975-bd41-4c5a-82bb-1c5dd89c5a9f 103.0\n",
      "windowing fa7ab975-bd41-4c5a-82bb-1c5dd89c5a9f 104.0\n",
      "windowing fa7ab975-bd41-4c5a-82bb-1c5dd89c5a9f 106.0\n",
      "windowing fa7ab975-bd41-4c5a-82bb-1c5dd89c5a9f 107.0\n",
      "windowing fa7ab975-bd41-4c5a-82bb-1c5dd89c5a9f 108.0\n",
      "windowing fa7ab975-bd41-4c5a-82bb-1c5dd89c5a9f 109.0\n",
      "windowing fa7ab975-bd41-4c5a-82bb-1c5dd89c5a9f 110.0\n",
      "windowing fa7ab975-bd41-4c5a-82bb-1c5dd89c5a9f 112.0\n",
      "windowing fa7ab975-bd41-4c5a-82bb-1c5dd89c5a9f 114.0\n",
      "windowing fa7ab975-bd41-4c5a-82bb-1c5dd89c5a9f 133.0\n",
      "windowing fa7ab975-bd41-4c5a-82bb-1c5dd89c5a9f 134.0\n",
      "windowing fa7ab975-bd41-4c5a-82bb-1c5dd89c5a9f 135.0\n",
      "windowing fa7ab975-bd41-4c5a-82bb-1c5dd89c5a9f 136.0\n",
      "windowing fa7ab975-bd41-4c5a-82bb-1c5dd89c5a9f 137.0\n",
      "windowing fa7ab975-bd41-4c5a-82bb-1c5dd89c5a9f 138.0\n",
      "windowing fa7ab975-bd41-4c5a-82bb-1c5dd89c5a9f 139.0\n",
      "windowing fa7ab975-bd41-4c5a-82bb-1c5dd89c5a9f 140.0\n",
      "windowing fa7ab975-bd41-4c5a-82bb-1c5dd89c5a9f 141.0\n",
      "windowing fa7ab975-bd41-4c5a-82bb-1c5dd89c5a9f 142.0\n",
      "windowing fa7ab975-bd41-4c5a-82bb-1c5dd89c5a9f 143.0\n",
      "windowing fa7ab975-bd41-4c5a-82bb-1c5dd89c5a9f 144.0\n",
      "windowing fa7ab975-bd41-4c5a-82bb-1c5dd89c5a9f 145.0\n",
      "windowing fa7ab975-bd41-4c5a-82bb-1c5dd89c5a9f 146.0\n",
      "windowing fa7ab975-bd41-4c5a-82bb-1c5dd89c5a9f 147.0\n",
      "windowing fa7ab975-bd41-4c5a-82bb-1c5dd89c5a9f 148.0\n",
      "windowing fa7ab975-bd41-4c5a-82bb-1c5dd89c5a9f 149.0\n",
      "windowing fa7ab975-bd41-4c5a-82bb-1c5dd89c5a9f 150.0\n",
      "windowing fa7ab975-bd41-4c5a-82bb-1c5dd89c5a9f 151.0\n",
      "windowing fa7ab975-bd41-4c5a-82bb-1c5dd89c5a9f 152.0\n",
      "windowing fa7ab975-bd41-4c5a-82bb-1c5dd89c5a9f 153.0\n",
      "windowing fa7ab975-bd41-4c5a-82bb-1c5dd89c5a9f 154.0\n",
      "windowing fa7ab975-bd41-4c5a-82bb-1c5dd89c5a9f 155.0\n",
      "windowing fa7ab975-bd41-4c5a-82bb-1c5dd89c5a9f 156.0\n",
      "windowing fa7ab975-bd41-4c5a-82bb-1c5dd89c5a9f 157.0\n",
      "windowing fa7ab975-bd41-4c5a-82bb-1c5dd89c5a9f 158.0\n",
      "windowing fa7ab975-bd41-4c5a-82bb-1c5dd89c5a9f 159.0\n",
      "windowing fa7ab975-bd41-4c5a-82bb-1c5dd89c5a9f 160.0\n",
      "windowing fa7ab975-bd41-4c5a-82bb-1c5dd89c5a9f 164.0\n",
      "windowing fa7ab975-bd41-4c5a-82bb-1c5dd89c5a9f 165.0\n",
      "windowing fa7ab975-bd41-4c5a-82bb-1c5dd89c5a9f 166.0\n",
      "windowing fa7ab975-bd41-4c5a-82bb-1c5dd89c5a9f 167.0\n",
      "windowing fa7ab975-bd41-4c5a-82bb-1c5dd89c5a9f 168.0\n",
      "windowing fa7ab975-bd41-4c5a-82bb-1c5dd89c5a9f 169.0\n",
      "windowing fa7ab975-bd41-4c5a-82bb-1c5dd89c5a9f 172.0\n",
      "windowing fa7ab975-bd41-4c5a-82bb-1c5dd89c5a9f 173.0\n",
      "windowing fa7ab975-bd41-4c5a-82bb-1c5dd89c5a9f 174.0\n",
      "windowing fa7ab975-bd41-4c5a-82bb-1c5dd89c5a9f 175.0\n",
      "windowing fa7ab975-bd41-4c5a-82bb-1c5dd89c5a9f 176.0\n",
      "windowing fa7ab975-bd41-4c5a-82bb-1c5dd89c5a9f 177.0\n",
      "Feature calculation done\n",
      "     acc_max  acc_mean   acc_min  gyro_max  gyro_mean  gyro_min   leg  \\\n",
      "0   1.174978  0.198769  0.019773  0.105875   0.024877  0.000749  88.0   \n",
      "1   2.255905  0.401202  0.045002  0.208818   0.056765  0.006705  88.0   \n",
      "2  13.606654  2.993433  0.030300  1.038953   0.287379  0.007058  88.0   \n",
      "3  18.359182  6.740988  0.573055  1.888106   0.696364  0.080618  88.0   \n",
      "4  12.115353  2.910017  0.227392  0.919032   0.297306  0.021516  88.0   \n",
      "\n",
      "   max_speed  mean_speed  min_speed   mode  \\\n",
      "0  13.224129    2.605083        0.0  605.0   \n",
      "1  13.070034    4.980699        0.0  605.0   \n",
      "2  12.591205    7.787395        0.0  605.0   \n",
      "3  12.261044    4.702163        0.0  605.0   \n",
      "4   7.451177    1.834214        0.0  605.0   \n",
      "\n",
      "                                   user  \n",
      "0  408483c0-4287-456d-a35c-b14e28ce10ec  \n",
      "1  408483c0-4287-456d-a35c-b14e28ce10ec  \n",
      "2  408483c0-4287-456d-a35c-b14e28ce10ec  \n",
      "3  408483c0-4287-456d-a35c-b14e28ce10ec  \n",
      "4  408483c0-4287-456d-a35c-b14e28ce10ec  \n"
     ]
    }
   ],
   "source": [
    "#Run this cell to window the dataset. Otherwise jump to the following cell to load windowed data.\n",
    "\n",
    "import numpy as np\n",
    "\n",
    "#window size in ms\n",
    "window_size = 5000\n",
    "\n",
    "# dataframe containing the features.\n",
    "# Columns: mean acceleration, max speed, transportation mode (target variable)\n",
    "features_df = pd.DataFrame()\n",
    "\n",
    "# iterate over all legs\n",
    "for index, row in legs_df.iterrows():\n",
    "    print('windowing', row['user'], row['id'])\n",
    "    boundary_left = row['start']\n",
    "    boundary_right = boundary_left + window_size\n",
    "    \n",
    "    while boundary_right < row['end']:\n",
    "        features = {}\n",
    "        \n",
    "        # get accelerometer readings within window\n",
    "        acc_readings_in_window = acc_readings.loc[\n",
    "                (acc_readings['leg'] == row['id']) &\n",
    "                (acc_readings['user'] == row['user']) &\n",
    "                (acc_readings['reading'] > boundary_left) &\n",
    "                (acc_readings['reading'] <= boundary_right)\n",
    "            ].copy()\n",
    "        \n",
    "        # calculate magnitude\n",
    "        acc_readings_in_window['magnitude'] = np.linalg.norm(acc_readings_in_window[['x','y','z']].values,axis=1)\n",
    "        # save mean magnitude as feature\n",
    "        features['acc_mean'] = acc_readings_in_window['magnitude'].mean()\n",
    "        features['acc_max'] = acc_readings_in_window['magnitude'].max()\n",
    "        features['acc_min'] = acc_readings_in_window['magnitude'].min()\n",
    "        \n",
    "        \n",
    "        # get gyrometer readings within window\n",
    "        gyro_readings_in_window = gyro_readings.loc[\n",
    "                (gyro_readings['leg'] == row['id']) &\n",
    "                (gyro_readings['user'] == row['user']) &\n",
    "                (gyro_readings['reading'] > boundary_left) &\n",
    "                (gyro_readings['reading'] <= boundary_right)\n",
    "            ].copy()\n",
    "        \n",
    "        # calculate magnitude gyro \n",
    "        gyro_readings_in_window['magnitude'] = np.linalg.norm(gyro_readings_in_window[['x','y','z']].values,axis=1)\n",
    "        # save mean magnitude as feature\n",
    "        features['gyro_mean'] = gyro_readings_in_window['magnitude'].mean()\n",
    "        features['gyro_max'] = gyro_readings_in_window['magnitude'].max()\n",
    "        features['gyro_min'] = gyro_readings_in_window['magnitude'].min()\n",
    "        \n",
    "        \n",
    "        # get location scans within window\n",
    "        locations_scans_in_window = locations_scans.loc[\n",
    "                (acc_readings['leg'] == row['id']) &\n",
    "                (acc_readings['user'] == row['user']) &\n",
    "                (acc_readings['reading'] > boundary_left) &\n",
    "                (acc_readings['reading'] <= boundary_right)\n",
    "            ].copy()\n",
    "        \n",
    "        # save max speed as feature\n",
    "        features['max_speed'] = locations_scans_in_window['speed'].max()\n",
    "        features['mean_speed'] = locations_scans_in_window['speed'].mean()\n",
    "        features['min_speed'] = locations_scans_in_window['speed'].min()\n",
    "        \n",
    "        \n",
    "        # save user, leg and transportation mode\n",
    "        features['user'] = row['user']\n",
    "        features['leg'] = row['id']\n",
    "        features['mode'] = row['mode']\n",
    "        \n",
    "        # save features in features data frame\n",
    "        features_df = features_df.append(features, ignore_index=True)\n",
    "        \n",
    "        # set new boundaries\n",
    "        boundary_left = boundary_right\n",
    "        boundary_right = boundary_left + window_size\n",
    "        \n",
    "print('Feature calculation done')\n",
    "print(features_df.head())\n",
    "\n",
    "features_df.to_pickle(\"./feature_df.pkl\")"
   ]
  },
  {
   "cell_type": "code",
   "execution_count": 6,
   "metadata": {},
   "outputs": [
    {
     "name": "stdout",
     "output_type": "stream",
     "text": [
      "     acc_max  acc_mean   acc_min  gyro_max  gyro_mean  gyro_min   leg  \\\n",
      "0   1.174978  0.198769  0.019773  0.105875   0.024877  0.000749  88.0   \n",
      "1   2.255905  0.401202  0.045002  0.208818   0.056765  0.006705  88.0   \n",
      "2  13.606654  2.993433  0.030300  1.038953   0.287379  0.007058  88.0   \n",
      "3  18.359182  6.740988  0.573055  1.888106   0.696364  0.080618  88.0   \n",
      "4  12.115353  2.910017  0.227392  0.919032   0.297306  0.021516  88.0   \n",
      "\n",
      "   max_speed  mean_speed  min_speed   mode  \\\n",
      "0  13.224129    2.605083        0.0  605.0   \n",
      "1  13.070034    4.980699        0.0  605.0   \n",
      "2  12.591205    7.787395        0.0  605.0   \n",
      "3  12.261044    4.702163        0.0  605.0   \n",
      "4   7.451177    1.834214        0.0  605.0   \n",
      "\n",
      "                                   user  \n",
      "0  408483c0-4287-456d-a35c-b14e28ce10ec  \n",
      "1  408483c0-4287-456d-a35c-b14e28ce10ec  \n",
      "2  408483c0-4287-456d-a35c-b14e28ce10ec  \n",
      "3  408483c0-4287-456d-a35c-b14e28ce10ec  \n",
      "4  408483c0-4287-456d-a35c-b14e28ce10ec  \n"
     ]
    }
   ],
   "source": [
    "#Run this of you want to load windowed dataset\n",
    "\n",
    "import pandas as pd\n",
    "import numpy as np\n",
    "\n",
    "features_df = pd.read_pickle(\"./feature_df.pkl\")\n",
    "print(features_df.head())"
   ]
  },
  {
   "cell_type": "markdown",
   "metadata": {
    "colab_type": "text",
    "id": "DflJCllEwcQa"
   },
   "source": [
    "# Shuffle split"
   ]
  },
  {
   "cell_type": "code",
   "execution_count": 7,
   "metadata": {
    "colab": {},
    "colab_type": "code",
    "id": "NcSBZ355wcQa",
    "pycharm": {
     "is_executing": false,
     "name": "#%%\n"
    }
   },
   "outputs": [
    {
     "name": "stdout",
     "output_type": "stream",
     "text": [
      "Shape of X_train (18330, 9)\n",
      "Shape of y_train (18330,)\n",
      "Shape of X_test (7856, 9)\n",
      "Shape of y_test (7856,)\n"
     ]
    }
   ],
   "source": [
    "from sklearn.model_selection import StratifiedShuffleSplit\n",
    "\n",
    "y = np.array(features_df['mode'])\n",
    "X = np.array(features_df.drop(['user', 'leg', 'mode'], axis=1))\n",
    "X = np.nan_to_num(X)\n",
    "\n",
    "#groups = np.array(features_df['group'])\n",
    "\n",
    "shuffle_split = StratifiedShuffleSplit(n_splits=1, test_size=0.3, random_state=42)\n",
    "\n",
    "train_indices, test_indices = next(shuffle_split.split(X=X, y=y))\n",
    "\n",
    "X_train, X_test = X[train_indices], X[test_indices]\n",
    "y_train, y_test = y[train_indices], y[test_indices]\n",
    "\n",
    "print('Shape of X_train', X_train.shape)\n",
    "print('Shape of y_train', y_train.shape)\n",
    "print('Shape of X_test', X_test.shape)\n",
    "print('Shape of y_test', y_test.shape)"
   ]
  },
  {
   "cell_type": "code",
   "execution_count": 8,
   "metadata": {},
   "outputs": [
    {
     "name": "stdout",
     "output_type": "stream",
     "text": [
      "Saved data windows\n"
     ]
    }
   ],
   "source": [
    "import numpy as np\n",
    "np.savetxt(\"X_datawindows.csv\", X, delimiter=\",\")\n",
    "np.savetxt(\"Y_datawindows.csv\", y, delimiter=\",\")\n",
    "print('Saved data windows')"
   ]
  },
  {
   "cell_type": "markdown",
   "metadata": {
    "colab_type": "text",
    "id": "nK-wgH9HwcQc"
   },
   "source": [
    "# Train XGBoost on training set"
   ]
  },
  {
   "cell_type": "code",
   "execution_count": 9,
   "metadata": {
    "colab": {},
    "colab_type": "code",
    "id": "QzON3v_kwcQc",
    "pycharm": {
     "is_executing": false,
     "name": "#%%\n"
    }
   },
   "outputs": [
    {
     "name": "stdout",
     "output_type": "stream",
     "text": [
      "Training done\n"
     ]
    }
   ],
   "source": [
    "import xgboost as xgb\n",
    "\n",
    "xgb_classifier = xgb.XGBClassifier(n_jobs=-1, objective='multi:softprob', random_state=42)\n",
    "\n",
    "xgb_classifier.fit(X_train, y_train)\n",
    "\n",
    "print('Training done')"
   ]
  },
  {
   "cell_type": "markdown",
   "metadata": {
    "colab_type": "text",
    "id": "PHAh8ppdwcQe"
   },
   "source": [
    "# Make classifications on testing set"
   ]
  },
  {
   "cell_type": "code",
   "execution_count": 10,
   "metadata": {
    "colab": {},
    "colab_type": "code",
    "id": "3Mih0n5zwcQe",
    "pycharm": {
     "is_executing": false,
     "name": "#%%\n"
    }
   },
   "outputs": [
    {
     "name": "stdout",
     "output_type": "stream",
     "text": [
      "Shape of y_pred (7856,)\n"
     ]
    }
   ],
   "source": [
    "y_pred = xgb_classifier.predict(X_test)\n",
    "\n",
    "print('Shape of y_pred', y_pred.shape)"
   ]
  },
  {
   "cell_type": "markdown",
   "metadata": {
    "colab_type": "text",
    "id": "CSUDPtu5wcQf"
   },
   "source": [
    "# Print classification reports"
   ]
  },
  {
   "cell_type": "code",
   "execution_count": 11,
   "metadata": {
    "colab": {},
    "colab_type": "code",
    "id": "x2a3eZdqwcQg",
    "pycharm": {
     "is_executing": false,
     "name": "#%%\n"
    }
   },
   "outputs": [
    {
     "name": "stdout",
     "output_type": "stream",
     "text": [
      "              precision    recall  f1-score   support\n",
      "\n",
      "         2.0     0.7819    0.7839    0.7829      2698\n",
      "         3.0     0.6939    0.0895    0.1585       380\n",
      "         4.0     0.2857    0.0085    0.0166       234\n",
      "         5.0     0.6515    0.4406    0.5257       488\n",
      "       304.0     0.5450    0.8762    0.6720      1527\n",
      "       601.0     0.6471    0.5218    0.5777      1286\n",
      "       602.0     0.8077    0.1628    0.2710       129\n",
      "       605.0     0.8597    0.9623    0.9081      1114\n",
      "\n",
      "    accuracy                         0.6960      7856\n",
      "   macro avg     0.6591    0.4807    0.4891      7856\n",
      "weighted avg     0.6981    0.6960    0.6681      7856\n",
      "\n",
      "Predicted  2.0    3.0    4.0    5.0    304.0  601.0  602.0  605.0\n",
      "Actual                                                           \n",
      "2.0         2115      1      1      1    392    161      2     25\n",
      "3.0           35     34      0      7    284     20      0      0\n",
      "4.0           34      0      2     37    115     41      0      5\n",
      "5.0           21      1      2    215    184     63      0      2\n",
      "304.0         93     13      0     57   1338     25      0      1\n",
      "601.0        385      0      2     13    125    671      2     88\n",
      "602.0         17      0      0      0      7     30     21     54\n",
      "605.0          5      0      0      0     10     26      1   1072\n"
     ]
    }
   ],
   "source": [
    "from sklearn.metrics import classification_report\n",
    "\n",
    "print(classification_report(y_test, y_pred, digits=4))\n",
    "\n",
    "# confusion matrix\n",
    "confMatrix = pd.crosstab(y_test, y_pred, rownames=['Actual'], colnames=['Predicted'])\n",
    "print(confMatrix)"
   ]
  },
  {
   "cell_type": "markdown",
   "metadata": {
    "colab_type": "text",
    "id": "-D9Rd820wcQh"
   },
   "source": [
    "# Train model on whole set and export it"
   ]
  },
  {
   "cell_type": "code",
   "execution_count": 12,
   "metadata": {
    "colab": {},
    "colab_type": "code",
    "id": "S8wqxt3MwcQi",
    "pycharm": {
     "is_executing": false,
     "name": "#%%\n"
    }
   },
   "outputs": [
    {
     "name": "stdout",
     "output_type": "stream",
     "text": [
      "xgboost.model\n",
      "model exported\n"
     ]
    }
   ],
   "source": [
    "xgb_classifier.fit(X, y)\n",
    "print('xgboost.model')\n",
    "xgb_classifier.save_model('xgboost_model')\n",
    "print('model exported')"
   ]
  },
  {
   "cell_type": "code",
   "execution_count": null,
   "metadata": {
    "colab": {},
    "colab_type": "code",
    "id": "rlKch9_BxK6L"
   },
   "outputs": [],
   "source": [
    "# Download file for use in Project\n",
    "from google.colab import files\n",
    "files.download('xgboost_model')"
   ]
  },
  {
   "cell_type": "code",
   "execution_count": null,
   "metadata": {},
   "outputs": [],
   "source": []
  },
  {
   "cell_type": "code",
   "execution_count": null,
   "metadata": {},
   "outputs": [],
   "source": []
  },
  {
   "cell_type": "code",
   "execution_count": null,
   "metadata": {},
   "outputs": [],
   "source": []
  }
 ],
 "metadata": {
  "accelerator": "GPU",
  "colab": {
   "collapsed_sections": [],
   "name": "xgboost_sample.ipynb",
   "provenance": []
  },
  "kernelspec": {
   "display_name": "Python 3",
   "language": "python",
   "name": "python3"
  },
  "language_info": {
   "codemirror_mode": {
    "name": "ipython",
    "version": 3
   },
   "file_extension": ".py",
   "mimetype": "text/x-python",
   "name": "python",
   "nbconvert_exporter": "python",
   "pygments_lexer": "ipython3",
   "version": "3.7.4"
  },
  "pycharm": {
   "stem_cell": {
    "cell_type": "raw",
    "metadata": {
     "collapsed": false
    },
    "source": []
   }
  }
 },
 "nbformat": 4,
 "nbformat_minor": 1
}
